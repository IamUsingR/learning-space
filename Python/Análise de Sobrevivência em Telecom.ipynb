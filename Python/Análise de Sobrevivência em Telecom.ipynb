{
 "cells": [
  {
   "cell_type": "markdown",
   "metadata": {},
   "source": [
    "# Aplicação de Survival Analysis no controle de Churn de assinaturas em Telecom"
   ]
  },
  {
   "cell_type": "markdown",
   "metadata": {},
   "source": [
    "Um dos assuntos mais recorrentes em qualquer tipo de serviço de assinatura é como reduzir o Churn, dado que conquistar novos clientes é bem [mais difícil (e caro) do que manter os antigos](https://hbr.org/2014/10/the-value-of-keeping-the-right-customers/). \n",
    "\n",
    "Cerca de 70% das empresas sabem que é mais barato manter um cliente do que ter que [ir atrás de um novo](http://oursocialtimes.com/70-of-companies-say-its-cheaper-to-retain-a-customer-than-acquire-one/).\n",
    "\n",
    "Fazendo uma analogia simples, os serviços de assinatura são como uma espécie de sangue na corrente sanguínea de uma empresa e uma interrupção de qualquer natureza prejudica todo o negócio, dado que esse é um modelo de negócio que se baseia na recorrência de tarifação e não no desenvolvimento, ou mesmo venda de outros produtos. \n",
    "\n",
    "Modelos de negócios baseados no volume de pessoas que estão dispostas a terem uma cobrança recorrente o negócio fica bem mais complicado, dado que diferentemente de produtos que tem uma eslasticidade maior o fluxo de receita é extremamente sujeito aos sabores do mercado e dos clientes.\n",
    "\n",
    "Dentro desse cenário, todas as empresas que tem o seu fluxo de receita baseado nesse tipo de business, saber quando um cliente entrará em uma situação de saída através do cancelamento do serviço (Churn) é fundamental para criar mecanismos de retenção mais efetivos, ou mesmo criação de réguas de contato com os clientes para evitar ou minimizar a chance de um cliente sair da base de dados. \n",
    "\n",
    "Sendo assim, qualquer mecanismo ou mesmo esforço para minimizar esse efeito é de grande valia. Nos baseamos na teoria estatística buscar respostas para a pergunta: Como diminuir o Churn? Como identificar um potencial cliente que irá entrar em uma situação de Churn? Quais estratégias seguir para minimizar esse Churn? Quais réguas de comunicação com os clientes devemos ter para entender os motivos que estão fazendo um assinante cancelar o serviço e quais são as estratégias de [customer winback](https://www.amazon.com/Customer-Winback-Recapture-Customers-Loyal/dp/0787946672) possíveis nesse cenário?\n",
    "\n",
    "E pra responder essa pergunta, fomos buscar as respostas na análise de sobrevivência dado que essa área da estatística é uma das que lidam melhor em termos de probabilidade de tempo de vida, seja de materiais (e.g. tempo de falha de algum sistema mecânico), no tempo de vida de pessoas propriamente ditas (e.g. dado uma determinada posologia qual é a estimativa de um paciente sobreviver a um câncer), e no nosso caso quanto tempo de vida um assinante tem até deixar cancelar a sua assinatura. \n",
    "\n",
    "A análise de sobreviência é uma técnica estatístisca que foi desenvolvida na medicina e tem como principal finalidade estimar o tempo de sobrevivência ou tempo de morte de um determinado paciente dentro de um horizonte do tempo. \n",
    "\n",
    "O estimador de [Kaplan-Meier (1958)](http://www.biecek.pl/statystykaMedyczna/2281868.pdf) utiliza uma função de sobrevivência que leva em consideração uma divisão entre o número de observações que não falharam no tempo t pelo número total de observações no estudo em que cada intervalo de tempo tem-se o número de falhas/mortes/churn distintos bem como é calculado o risco de acordo com o número de individuos restantes no tempo subsequente.\n",
    "\n",
    "Já o estimador [Nelson-Aalen (1978)](http://projecteuclid.org/download/pdf_1/euclid.aos/1176344198) é um estimador que tem as mesmas características do Kaplan-Meier, com a dferença que esse estimador trabalha com uma função de sobrevivência que é a cumulative hazard rate function.\n",
    "\n",
    "Os elementos fundamentais para caracterização de um estudo que envolve análise de sobrevivência são, o tempo inicial, escala de medida do intervalo de tempo e se o evento de churn ocorreu.\n",
    "\n",
    "Os principais artigos são de [Aalen (1978)](http://projecteuclid.org/download/pdf_1/euclid.aos/1176344198), Kaplan-[Meier (1958)](http://www.biecek.pl/statystykaMedyczna/2281868.pdf) e [Cox (1972)](http://www.biecek.pl/statystykaMedyczna/cox.pdf).\n",
    "\n",
    "Esse post não tem como principal objetivo dar algum tipo de introdução à survival analysis, dado que tem muitas referências na internet sobre o assunto e não há nada a ser acrescentado nesse sentido. \n",
    "\n",
    "Como a análise de [cohort](https://en.wikipedia.org/wiki/Cohort_analysis), a análise de sobrevivência tem como principal característica ser um estudo de natureza logituginal, isto é, os seus resultados tem uma caracterisca de temporalidade seja em aspectos de retrospecção, quanto em termos de perspectivas, isso é, tem uma resposta tipicamente temporal para um detemrminado evento de interesse. \n",
    "\n",
    "No caso o que vamos usar como forma de comparação amostral é o comportamento longituginal de acordo com determinadas caracteristicas de amostragens diferentes ao longo do tempo, e os fatores que influenciam no churn.\n",
    "\n",
    "As diferenciações estão claras através das covariáveis, mas que devido a questões de [NDA](https://en.wikipedia.org/wiki/Non-disclosure_agreement) não vamos postar aqui, mas para fins de exemplificação e comparação vamos considerar que todas as covariaveis são semelhantes.\n",
    "\n",
    "Podemos dizer que a análise de sobrevivência aplicada em um caso de telecom, pode ajudar ter uma estimativa em forma de probabilidade em relação ao tempo em que uma assinatura vai durar até o evento de churn (cancelamento) e dessa forma elaborar estratégias para evitar esse evento, dado que adquirir um novo cliente é mais caro do que manter um novo e entra totalmente dentro de uma estratégia de Customer Winback\n",
    "\n",
    "No nosso caso o tempo de falha ou tempo de morte, como estamos falando de serviços de assinaturas, o nosso evento de interesse seria o churn, ou cancelamento da assinatura. Em outras palavras teríamos algo do tipo Time-to-Churn. Guardem esse termo.  \n",
    "\n",
    "\n",
    "Metodologia\n",
    "\n",
    "Usamos dados de dois produtos antigos em que os dados foram anonimizados e aplicados um hash de embaralhamento uniforme (que obedece uma distribuição específica) nos atributos por questões de privacidade, que são:\n",
    "\n",
    "- id = Identificador do registro\n",
    "- product = produto\n",
    "- channel = canal no qual o cliente entrou na base de dados\n",
    "- free_user = flag que indica se o cliente entrou na base em gratuídade ou não\n",
    "- user_plan = se o usuário é pré-pago ou pós-pago\t\n",
    "- t = tempo que o assinante está na base de dados\t\n",
    "- c = informa se o evento de interesse (no caso o churn (cancelamento da assinatura) ocorreu ou não\n",
    "\n",
    "Eliminamos o efeito de [censura à esquerda](https://en.wikipedia.org/wiki/Survival_analysis#Censoring) eliminando casos de reativações, dado que queriamos entender a jornada do assinante como um todo sem nenhum tipo de viés relativo a questões de customer winback. Em relação à [censura à direita](https://en.wikipedia.org/wiki/Survival_analysis#Censoring) temos que já se passaram alguns meses desde que essa base de dados foi extraída.\n",
    "\n",
    "Um aspecto técnico importante a ser considerado é que esses dois produtos estão em categorias de comparabilidade, dado que sem isso nenhum tipo de caractericação seria nula.\n",
    "\n",
    "No fim dessa implementação teremos uma tabela de vida de cada um desses produtos. \n",
    "\n",
    "\n",
    "Primeiramente vamos importar as bibilotecas: Pandas (para manipulação de dados), matplotlib (para a geração de gráficos), e lifelines para aplicação da análise de sobrevivência"
   ]
  },
  {
   "cell_type": "code",
   "execution_count": 1,
   "metadata": {
    "collapsed": false
   },
   "outputs": [],
   "source": [
    "%matplotlib inline\n",
    "import matplotlib.pyplot as plt\n",
    "import numpy as np\n",
    "import pandas as pd\n",
    "import lifelines"
   ]
  },
  {
   "cell_type": "markdown",
   "metadata": {},
   "source": [
    "Após realizar a importação das bibliotecas, vamos ajustar o tamanho das imagens para uma melhor visualização."
   ]
  },
  {
   "cell_type": "code",
   "execution_count": 2,
   "metadata": {
    "collapsed": false
   },
   "outputs": [
    {
     "name": "stdout",
     "output_type": "stream",
     "text": [
      "Populating the interactive namespace from numpy and matplotlib\n"
     ]
    }
   ],
   "source": [
    "%pylab inline\n",
    "pylab.rcParams['figure.figsize'] = (14, 9)"
   ]
  },
  {
   "cell_type": "markdown",
   "metadata": {},
   "source": [
    "Vamos realizar o upload da nossa base de dados criando um objecto chamado df e usando a classe read_csv do pandas. "
   ]
  },
  {
   "cell_type": "code",
   "execution_count": 3,
   "metadata": {
    "collapsed": false
   },
   "outputs": [],
   "source": [
    "df = pd.read_csv('https://raw.githubusercontent.com/fclesio/learning-space/master/Datasets/07%20-%20Survival/survival_data.csv')"
   ]
  },
  {
   "cell_type": "markdown",
   "metadata": {},
   "source": [
    "Vamos checar a nossa base de dados"
   ]
  },
  {
   "cell_type": "code",
   "execution_count": 4,
   "metadata": {
    "collapsed": false
   },
   "outputs": [
    {
     "data": {
      "text/html": [
       "<div>\n",
       "<table border=\"1\" class=\"dataframe\">\n",
       "  <thead>\n",
       "    <tr style=\"text-align: right;\">\n",
       "      <th></th>\n",
       "      <th>id</th>\n",
       "      <th>product</th>\n",
       "      <th>channel</th>\n",
       "      <th>free_user</th>\n",
       "      <th>user_plan</th>\n",
       "      <th>t</th>\n",
       "      <th>c</th>\n",
       "    </tr>\n",
       "  </thead>\n",
       "  <tbody>\n",
       "    <tr>\n",
       "      <th>0</th>\n",
       "      <td>3315</td>\n",
       "      <td>B</td>\n",
       "      <td>HH</td>\n",
       "      <td>1</td>\n",
       "      <td>0</td>\n",
       "      <td>22</td>\n",
       "      <td>0</td>\n",
       "    </tr>\n",
       "    <tr>\n",
       "      <th>1</th>\n",
       "      <td>2372</td>\n",
       "      <td>A</td>\n",
       "      <td>FF</td>\n",
       "      <td>1</td>\n",
       "      <td>1</td>\n",
       "      <td>16</td>\n",
       "      <td>0</td>\n",
       "    </tr>\n",
       "    <tr>\n",
       "      <th>2</th>\n",
       "      <td>1098</td>\n",
       "      <td>B</td>\n",
       "      <td>HH</td>\n",
       "      <td>1</td>\n",
       "      <td>1</td>\n",
       "      <td>22</td>\n",
       "      <td>0</td>\n",
       "    </tr>\n",
       "    <tr>\n",
       "      <th>3</th>\n",
       "      <td>2758</td>\n",
       "      <td>B</td>\n",
       "      <td>HH</td>\n",
       "      <td>1</td>\n",
       "      <td>1</td>\n",
       "      <td>4</td>\n",
       "      <td>1</td>\n",
       "    </tr>\n",
       "    <tr>\n",
       "      <th>4</th>\n",
       "      <td>2377</td>\n",
       "      <td>A</td>\n",
       "      <td>FF</td>\n",
       "      <td>1</td>\n",
       "      <td>1</td>\n",
       "      <td>29</td>\n",
       "      <td>0</td>\n",
       "    </tr>\n",
       "  </tbody>\n",
       "</table>\n",
       "</div>"
      ],
      "text/plain": [
       "     id product channel  free_user  user_plan   t  c\n",
       "0  3315       B      HH          1          0  22  0\n",
       "1  2372       A      FF          1          1  16  0\n",
       "2  1098       B      HH          1          1  22  0\n",
       "3  2758       B      HH          1          1   4  1\n",
       "4  2377       A      FF          1          1  29  0"
      ]
     },
     "execution_count": 4,
     "metadata": {},
     "output_type": "execute_result"
    }
   ],
   "source": [
    "df.head()"
   ]
  },
  {
   "cell_type": "markdown",
   "metadata": {},
   "source": [
    "Então como podemos ver temos as 7 variáveis na nossa base de dados."
   ]
  },
  {
   "cell_type": "markdown",
   "metadata": {},
   "source": [
    "Na sequência vamos importar a biblioteca do lifeniles, em especial o estimador de KaplanMaier"
   ]
  },
  {
   "cell_type": "code",
   "execution_count": 5,
   "metadata": {
    "collapsed": true
   },
   "outputs": [],
   "source": [
    "from lifelines import KaplanMeierFitter\n",
    "\n",
    "kmf = KaplanMeierFitter()"
   ]
  },
  {
   "cell_type": "markdown",
   "metadata": {},
   "source": [
    "Após realizar a importação da classe relativa ao estimador de Kaplan Meier no objeto kmf, vamos atribuir as nossas variáveis de tempo (T) e evento de interesse (C)"
   ]
  },
  {
   "cell_type": "code",
   "execution_count": 6,
   "metadata": {
    "collapsed": true
   },
   "outputs": [],
   "source": [
    "T = df[\"t\"]\n",
    "\n",
    "C = df[\"c\"]"
   ]
  },
  {
   "cell_type": "markdown",
   "metadata": {},
   "source": [
    "O que foi feito anteriormente é que buscamos no dataframe df o array t e atribuímos no objeto T, e buscamos o array da coluna c no dataframe e atribuímos no objeto C. \n",
    "\n",
    "Agora vamos chamar o método fit usando esses dois objetos no snippet abaixo."
   ]
  },
  {
   "cell_type": "code",
   "execution_count": 7,
   "metadata": {
    "collapsed": false
   },
   "outputs": [
    {
     "data": {
      "text/plain": [
       "<lifelines.KaplanMeierFitter: fitted with 10000 observations, 6000 censored>"
      ]
     },
     "execution_count": 7,
     "metadata": {},
     "output_type": "execute_result"
    }
   ],
   "source": [
    "kmf.fit(T, event_observed=C )"
   ]
  },
  {
   "cell_type": "markdown",
   "metadata": {},
   "source": [
    "Objeto ajustado, vamos agora ver o gráfico relativo a esse objeto usando o estimador de Kaplan Meier. "
   ]
  },
  {
   "cell_type": "code",
   "execution_count": null,
   "metadata": {
    "collapsed": false
   },
   "outputs": [],
   "source": [
    "kmf.survival_function_.plot()\n",
    "plt.title('Survival function of Service Valued Add Products');\n",
    "plt.ylabel('Probability of Living (%)')\n",
    "plt.xlabel('Lifespan of the subscription (in days)')"
   ]
  },
  {
   "cell_type": "markdown",
   "metadata": {},
   "source": [
    "Como podemos ver no gráfico, temos algumas observações pertinentes, quando tratamos a probabilidade de sobreviência desses dois produtos no agregado que são:\n",
    "\n",
    "- Logo no primeiro dia há uma redução substâncial do tempo de sobrevivência da assinatura em aproximadamente 22%;\n",
    "- Há um decaímento quase que linear depois do quinto dia de assinatura;\n",
    "- Depois do dia número 30, a probabilidade de sobrevivência de uma assinatura é de aproximadamente de 50%. Em outras palavras: depois de 30 dias, metade dos novos assinantes já estarão fora da base de dados. \n",
    "\n",
    "No entando, vamos plotar a mesma função de sobreviência considerando os intervalos de [confiança estatística](http://www.portalaction.com.br/inferencia/intervalo-de-confianca).\n",
    "\n"
   ]
  },
  {
   "cell_type": "code",
   "execution_count": null,
   "metadata": {
    "collapsed": false
   },
   "outputs": [],
   "source": [
    "kmf.plot()\n",
    "plt.title('Survival function of Service Valued Add Products - Confidence Interval in 85-95%');\n",
    "plt.ylabel('Probability of Living (%)')\n",
    "plt.xlabel('Lifespan of the subscription')"
   ]
  },
  {
   "cell_type": "markdown",
   "metadata": {},
   "source": [
    "Contudo nesse modelo inicial temos duas limitações claras que são:\n",
    "- Os dados no agregado não dizem muito em relação à dinâmicas que podem estar na especificidade de alguns atributos/dimensões\n",
    "- Não são exploradas as dimensões (ou quebras) de acordo com os atributos que vieram na base de dados\n",
    "- Não há a divisão por produto\n",
    "\n",
    "Para isso, vamos começar a entrar no detalhe em relação a cada uma das dimensões e ver o que cada uma tem de influência em relação à função de sobrevivência. \n",
    "\n",
    "Vamos começar realizando a quebra por tipo de plano (user_plan) em que temos usuários pré-pagos com usuários pós-pagos e essa divisão será feita por produto."
   ]
  },
  {
   "cell_type": "code",
   "execution_count": null,
   "metadata": {
    "collapsed": false
   },
   "outputs": [],
   "source": [
    "ax = plt.subplot(111)\n",
    "\n",
    "free = (df[\"free_user\"] == 1)\n",
    "kmf.fit(T[free], event_observed=C[free], label=\"Free Users\")\n",
    "kmf.plot(ax=ax, ci_force_lines=True)\n",
    "kmf.fit(T[~free], event_observed=C[~free], label=\"Non-Free Users\")\n",
    "kmf.plot(ax=ax, ci_force_lines=True)\n",
    "plt.ylim(0,1);\n",
    "plt.title(\"Lifespans of different subscription types\");\n",
    "plt.ylabel('Probability of Living (%)')\n",
    "plt.xlabel('Lifespan')\n"
   ]
  },
  {
   "cell_type": "markdown",
   "metadata": {},
   "source": [
    "Este gráfico apresenta algumas informações importantes para os primeiros insights em relação a cada uma das curvas de sobreviência em relação ao tipo de gratuídade oferecida como fator de influência para o churn que são:\n",
    "- Os assinantes que entram como não gratuítos (i.e. não tem nenhum tipo de gratuidade inicial) após o 15o dia apresenta um decaímento brutal de mais de 40% da chance de sobreviência (tratando-se do intervalo de confiança);\n",
    "- Após o 15o dia os assinantes que não desfrutam de gratuidade tem a sua curva de sobrevivência em uma relativa estabilidade em torno de 60% na probabilidade de sobrevivência até o período censurado;\n",
    "- Ainda nos usuários sem gratuidade, dado o grau de variabilidade do intervalo de confiança podemos tirar como conclusão que muitos cancelamentos estão ocorrendo de forma muito acelerada, o que deve ser investigado com mais calma pelo time de produtos;\n",
    "- Já os usuários que entram via gratuidade (i.e. ganham alguns dias grátis antes de serem tarifados) apresenta um nível de decaímento do nível de sobreviência maior seja no período incial, quando ao longo do tempo, contudo uma estabilidade é encontrada ao longo de toda a série sem maiores sobressaltos.\n",
    "\n",
    "Dado essa análise incial das curvas de sobreviência, vamos avaliar agora as probabilidades de sobrevivência de acordo com o produto. "
   ]
  },
  {
   "cell_type": "code",
   "execution_count": null,
   "metadata": {
    "collapsed": false
   },
   "outputs": [],
   "source": [
    "ax = plt.subplot(111)\n",
    "\n",
    "product = (df[\"product\"] == \"A\")\n",
    "kmf.fit(T[product], event_observed=C[product], label=\"Product A\")\n",
    "kmf.plot(ax=ax, ci_force_lines=True)\n",
    "kmf.fit(T[~product], event_observed=C[~product], label=\"Product B\")\n",
    "kmf.plot(ax=ax, ci_force_lines=True)\n",
    "\n",
    "plt.ylim(0,1);\n",
    "plt.title(\"Survival Curves of different Products\");\n",
    "plt.ylabel('Probability of Living (%)')\n",
    "plt.xlabel('Lifespan')"
   ]
  },
  {
   "cell_type": "markdown",
   "metadata": {},
   "source": [
    "Este gráfico apresenta a primeira distinção entre os dois produtos de uma forma mais clara. \n",
    "\n",
    "Mesmo com os intervalos de confiança com uma variação de 5%, podemos ver que o produto A (linha azul) tem uma maior probabilidade de sobrevivência com uma diferença percentual de mais de 15%; diferença essa amplificada depois do vigésimo dia. \n",
    "\n",
    "Em outras palavras: Dado um determinada safra de usuários, caso o usuário entre no produto A o mesmo tem uma probabilidade de retenção de cerca de 15% em relação a um usuário que por ventura entre no produto B, ou o produto A apresenta uma cauda de retenção superior ao produto B. \n",
    "\n",
    "Empiricamente é sabido que um dos principais fatores de influência de produtos SVA são os canais de mídia os quais esses produtos são oferecidos. \n",
    "\n",
    "O canal de mídia é o termômetro em que podemos saber se estamos oferencendo os nossos produtos para o público alvo correto. \n",
    "\n",
    "No entanto para um melhor entendimento, vamos analisar os canais nos quais as assinaturas são originadas. \n",
    "\n",
    "A priori vamos normalizar a variável _channel_ para realizar a segmentação dos canais de acordo com o conjunto de dados.\n"
   ]
  },
  {
   "cell_type": "code",
   "execution_count": null,
   "metadata": {
    "collapsed": true
   },
   "outputs": [],
   "source": [
    "df['channel'] = df['channel'].astype('category');\n",
    "channels = df['channel'].unique()"
   ]
  },
  {
   "cell_type": "markdown",
   "metadata": {},
   "source": [
    "Após normalização e transformação da variável para o tipo categórico, vamos ver como está o array."
   ]
  },
  {
   "cell_type": "code",
   "execution_count": null,
   "metadata": {
    "collapsed": false
   },
   "outputs": [],
   "source": [
    "channels"
   ]
  },
  {
   "cell_type": "markdown",
   "metadata": {},
   "source": [
    "Aqui temos a representação de 11 canais de mídia os quais os clientes entraram no serviço. \n",
    "\n",
    "Com esses canais, vamos identificar a probabilidade de sobrevivência de acordo com o canal."
   ]
  },
  {
   "cell_type": "code",
   "execution_count": null,
   "metadata": {
    "collapsed": false
   },
   "outputs": [],
   "source": [
    "for i,channel_type in enumerate(channels):\n",
    "    ax = plt.subplot(3,4,i+1)\n",
    "    ix = df['channel'] == channel_type\n",
    "    kmf.fit( T[ix], C[ix], label=channel_type )\n",
    "    kmf.plot(ax=ax, legend=True)\n",
    "    plt.title(channel_type)\n",
    "    plt.xlim(0,40)\n",
    "    if i==0:\n",
    "        plt.ylabel('Probability of Survival by Channel (%)')\n",
    "plt.tight_layout()"
   ]
  },
  {
   "cell_type": "markdown",
   "metadata": {
    "collapsed": true
   },
   "source": [
    "Fazendo uma análise sobre cada um desses gráficos temos algumas considerações sobre cada um dos canais:\n",
    "\n",
    "- HH, DD: Uma alta taxa de mortalidade (churn) logo antes dos primeiros 5 dias, o que indica uma caracteristica de efemeridade ou atratividade no produto para o público desse canal de mídia.\n",
    "\n",
    "\n",
    "- FF: Apresenta menos de 10% de taxa de mortalidade nos primeiros 20 dias, e tem um padrão muito particular depois do 25o dia em que praticamente não tem uma mortalidade tão alta. Contém um intervalo de confiança com uma oscilação muito forte.\n",
    "\n",
    "\n",
    "- CC: Junto com o HH apesar de ter uma taxa de mortalidade alta antes do 10o dia, apresenta um grau de previsibildiade muito bom, o que pode ser utilizado em estratégias de incentivos de mídia que tenham que ter uma segurança maior em termos de retenção a médio prazo. \n",
    "\n",
    "\n",
    "- GG, BB: Apresentam uma boa taxa de sobrevivência no inicio do período, contudo possuem oscilações severas em seus respectivos intervalos de confiança. Essa variável deve ser considerada no momento de elaboração de uma estratégia de investimento nesses canais. \n",
    "\n",
    "\n",
    "- JJ: Se houvesse uma definição de incerteza em termos de sobreviência, esse canal seria o seu melhor representante. Com os seus intervalos de confiança oscilando em mais de 40% em relação ao limite inferior e superior, esse canal de mídia mostra-se extremamente arriscado para os investimentos, dado que não há nenhum tipo de regularidade/previsibilidade de acordo com esses dados.\n",
    "\n",
    "\n",
    "- II: Apesar de ter um bom grau de previsibilidade em relação à taxa de sobreviência nos primeiros 10 dias, após esse período tem uma curva de hazard muito severa, o que indica que esse tipo de canal pode ser usado em uma estratégia de curto prazo. \n",
    "\n",
    "\n",
    "- AA, EE, ZZ: Por haver alguma forma de censura nos dados, necessitam de mais análise nesse primeiro momento. (Entrar no detalhe dos dados e ver se é censura à direita ou algum tipo de truncamento).\n",
    "\n",
    "\n",
    "\n",
    "\n",
    "\n",
    "Agora que já sabemos um pouco da dinâmica de cada canal, vamos criar uma tabela de vida para esses dados. \n",
    "\n",
    "A tabela de vida nada mais é do que uma representação da função de sobrevivencia de forma tabular em relação aos dias de sobrevivência. (Melhorar essa parte).\n",
    "\n",
    "Para isso vamos usar a biblioteca utils do lifelines para chegarmos nesse valor.\n"
   ]
  },
  {
   "cell_type": "code",
   "execution_count": null,
   "metadata": {
    "collapsed": false
   },
   "outputs": [],
   "source": [
    "from lifelines.utils import survival_table_from_events"
   ]
  },
  {
   "cell_type": "markdown",
   "metadata": {},
   "source": [
    "Biblioteca importada, vamos usar agora as nossas váriaveis T e C novamente para realizar o ajuste da tabela de vida."
   ]
  },
  {
   "cell_type": "code",
   "execution_count": null,
   "metadata": {
    "collapsed": true
   },
   "outputs": [],
   "source": [
    "lifetable = survival_table_from_events(T, C)"
   ]
  },
  {
   "cell_type": "markdown",
   "metadata": {},
   "source": [
    "Tabela importada, vamos dar uma olhada no conjunto de dados. "
   ]
  },
  {
   "cell_type": "code",
   "execution_count": null,
   "metadata": {
    "collapsed": false
   },
   "outputs": [],
   "source": [
    "print (lifetable)"
   ]
  },
  {
   "cell_type": "markdown",
   "metadata": {},
   "source": [
    "Diferentemente do R que possuí a tabela de vida com a porcentagem relativa à probabilidade de sobrevivência, nesse caso vamos ter que fazer um pequeno ajuste para obter a porcentagem de acordo com o atributo entrance e at_risk.\n",
    "\n",
    "O ajuste se dará da seguinte forma:"
   ]
  },
  {
   "cell_type": "code",
   "execution_count": null,
   "metadata": {
    "collapsed": false
   },
   "outputs": [],
   "source": [
    "survivaltable = lifetable.at_risk/np.amax(lifetable.entrance)"
   ]
  },
  {
   "cell_type": "markdown",
   "metadata": {},
   "source": [
    "Ajustes efetuados, vamos ver como está a nossa tabela de vida."
   ]
  },
  {
   "cell_type": "code",
   "execution_count": null,
   "metadata": {
    "collapsed": false
   },
   "outputs": [],
   "source": [
    "survivaltable"
   ]
  },
  {
   "cell_type": "markdown",
   "metadata": {},
   "source": [
    "Vamos transformar a nossa tabela de vida em um objeto do pandas para melhor manipulação do conjunto de dados. "
   ]
  },
  {
   "cell_type": "code",
   "execution_count": null,
   "metadata": {
    "collapsed": true
   },
   "outputs": [],
   "source": [
    "survtable = pd.DataFrame(survivaltable)"
   ]
  },
  {
   "cell_type": "markdown",
   "metadata": {},
   "source": [
    "Para casos de atualização de _Churn-at-Risk_ podemos definir uma função que já terá a tabela de vida e poderá fazer a atribuição da probabilidade de sobreviência de acordo com os dias de sobreviência.\n",
    "\n",
    "Para isso vamos fazer uma função simples usando o próprio python."
   ]
  },
  {
   "cell_type": "code",
   "execution_count": null,
   "metadata": {
    "collapsed": false
   },
   "outputs": [],
   "source": [
    "def survival_probability( int ):\n",
    "   survtable[\"at_risk\"].iloc[int]\n",
    "   print (\"The probability of Survival after\", int, \"days is\", survtable[\"at_risk\"].iloc[int]*100, \"%\") \n",
    "   return;\n"
   ]
  },
  {
   "cell_type": "markdown",
   "metadata": {},
   "source": [
    "Nesse caso vamos ver a chance de sobreviência usando o nosso modelo Kaplan-Meier já ajustado para uma assinatura que tenha 22 dias de vida."
   ]
  },
  {
   "cell_type": "code",
   "execution_count": null,
   "metadata": {
    "collapsed": false
   },
   "outputs": [],
   "source": [
    "survival_probability(22)"
   ]
  },
  {
   "cell_type": "markdown",
   "metadata": {},
   "source": [
    "Ou seja, essa assinatura tem apenas 11.95% de probabilidade de estar ativa, o que significa que em algum momento muito próximo ela pode vir a ser cancelada. "
   ]
  },
  {
   "cell_type": "markdown",
   "metadata": {},
   "source": []
  },
  {
   "cell_type": "code",
   "execution_count": null,
   "metadata": {
    "collapsed": true
   },
   "outputs": [],
   "source": []
  }
 ],
 "metadata": {
  "kernelspec": {
   "display_name": "Python 3",
   "language": "python",
   "name": "python3"
  },
  "language_info": {
   "codemirror_mode": {
    "name": "ipython",
    "version": 3
   },
   "file_extension": ".py",
   "mimetype": "text/x-python",
   "name": "python",
   "nbconvert_exporter": "python",
   "pygments_lexer": "ipython3",
   "version": "3.5.1"
  }
 },
 "nbformat": 4,
 "nbformat_minor": 0
}
