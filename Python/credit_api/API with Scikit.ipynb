{
 "cells": [
  {
   "cell_type": "markdown",
   "metadata": {},
   "source": [
    "Feature Extraction"
   ]
  },
  {
   "cell_type": "code",
   "execution_count": 2,
   "metadata": {
    "collapsed": false
   },
   "outputs": [],
   "source": [
    "import pandas as pd\n",
    "\n",
    "###\n",
    "### Load Data Set\n",
    "###\n",
    "df=pd.read_csv(\n",
    "    'cs-training.csv', \n",
    "    sep=',',\n",
    "    header=0)\n",
    "data = df.drop(\n",
    "    df.columns[0], \n",
    "    axis=1)\n",
    "\n",
    "# Drop rows with missing column data\n",
    "data = data.dropna()\n",
    "\n",
    "###\n",
    "### Convert Data Into List Of Dict Records\n",
    "###\n",
    "data = data.to_dict(orient='records')\n",
    "\n",
    "###\n",
    "### Seperate Target and Outcome Features\n",
    "###\n",
    "from sklearn.feature_extraction import DictVectorizer\n",
    "from pandas import DataFrame\n",
    "vec = DictVectorizer()\n",
    "\n",
    "df_data = vec.fit_transform(data).toarray()\n",
    "feature_names = vec.get_feature_names()\n",
    "df_data = DataFrame(\n",
    "    df_data,\n",
    "    columns=feature_names)\n",
    "    \n",
    "outcome_feature = df_data['SeriousDlqin2yrs']\n",
    "target_features = df_data.drop('SeriousDlqin2yrs', axis=1)"
   ]
  },
  {
   "cell_type": "markdown",
   "metadata": {},
   "source": [
    "Generate training and test set"
   ]
  },
  {
   "cell_type": "code",
   "execution_count": 3,
   "metadata": {
    "collapsed": true
   },
   "outputs": [],
   "source": [
    "###\n",
    "### Generate Training and Testing Set \n",
    "###\n",
    "from sklearn import cross_validation\n",
    "\n",
    "\"\"\"\n",
    "    X_1: independent (target) variables for first data set\n",
    "    Y_1: dependent (outcome) variable for first data set\n",
    "    X_2: independent (target) variables for the second data set\n",
    "    Y_2: dependent (outcome) variable for the second data set\n",
    "\"\"\"\n",
    "X_1, X_2, Y_1, Y_2 = cross_validation.train_test_split(\n",
    "    target_features, outcome_feature, test_size=0.5, random_state=0)"
   ]
  },
  {
   "cell_type": "markdown",
   "metadata": {},
   "source": [
    "Define Classifier"
   ]
  },
  {
   "cell_type": "code",
   "execution_count": 5,
   "metadata": {
    "collapsed": true
   },
   "outputs": [],
   "source": [
    "###\n",
    "### Define Classifier\n",
    "###                             \n",
    "from sklearn.naive_bayes import GaussianNB\n",
    "clf = GaussianNB()"
   ]
  },
  {
   "cell_type": "markdown",
   "metadata": {},
   "source": [
    "Train Classifier"
   ]
  },
  {
   "cell_type": "code",
   "execution_count": 6,
   "metadata": {
    "collapsed": false
   },
   "outputs": [
    {
     "data": {
      "text/plain": [
       "GaussianNB()"
      ]
     },
     "execution_count": 6,
     "metadata": {},
     "output_type": "execute_result"
    }
   ],
   "source": [
    "###\n",
    "### Train Classifier \n",
    "###                              \n",
    "clf.fit(X_1,Y_1)"
   ]
  },
  {
   "cell_type": "markdown",
   "metadata": {},
   "source": [
    "Print Accuracy"
   ]
  },
  {
   "cell_type": "code",
   "execution_count": 11,
   "metadata": {
    "collapsed": false
   },
   "outputs": [],
   "source": [
    "###\n",
    "### Print Accuracy and Confusion Matrix\n",
    "###\n",
    "\n",
    "output = clf.predict(X_2)\n",
    "\n",
    "from sklearn.metrics import confusion_matrix\n",
    "matrix = confusion_matrix(output, Y_2)\n",
    "score = clf.score(X_2, Y_2)"
   ]
  },
  {
   "cell_type": "code",
   "execution_count": 15,
   "metadata": {
    "collapsed": false
   },
   "outputs": [
    {
     "name": "stdout",
     "output_type": "stream",
     "text": [
      "accuracy: 0.9294088301322025\n"
     ]
    }
   ],
   "source": [
    "print (\"accuracy: {0}\".format(score.mean()))"
   ]
  },
  {
   "cell_type": "code",
   "execution_count": 16,
   "metadata": {
    "collapsed": false
   },
   "outputs": [
    {
     "name": "stdout",
     "output_type": "stream",
     "text": [
      "[[55798  4094]\n",
      " [  151    92]]\n"
     ]
    }
   ],
   "source": [
    "print (matrix)"
   ]
  },
  {
   "cell_type": "markdown",
   "metadata": {},
   "source": [
    "Save Classifier (A folder called model must be created first)"
   ]
  },
  {
   "cell_type": "code",
   "execution_count": 18,
   "metadata": {
    "collapsed": false
   },
   "outputs": [
    {
     "data": {
      "text/plain": [
       "['model/nb.pkl',\n",
       " 'model/nb.pkl_01.npy',\n",
       " 'model/nb.pkl_02.npy',\n",
       " 'model/nb.pkl_03.npy',\n",
       " 'model/nb.pkl_04.npy',\n",
       " 'model/nb.pkl_05.npy']"
      ]
     },
     "execution_count": 18,
     "metadata": {},
     "output_type": "execute_result"
    }
   ],
   "source": [
    "###\n",
    "### Save Classifier\n",
    "###\n",
    "from sklearn.externals import joblib\n",
    "joblib.dump(clf, 'model/nb.pkl')"
   ]
  },
  {
   "cell_type": "markdown",
   "metadata": {},
   "source": [
    "Ignore Warnings"
   ]
  },
  {
   "cell_type": "code",
   "execution_count": 20,
   "metadata": {
    "collapsed": true
   },
   "outputs": [],
   "source": [
    "import warnings\n",
    "from flask.exthook import ExtDeprecationWarning\n",
    "\n",
    "warnings.simplefilter('ignore', ExtDeprecationWarning)"
   ]
  },
  {
   "cell_type": "markdown",
   "metadata": {},
   "source": [
    "Setup Flask"
   ]
  },
  {
   "cell_type": "code",
   "execution_count": 21,
   "metadata": {
    "collapsed": false
   },
   "outputs": [],
   "source": [
    "from flask import Flask\n",
    "from flask.ext.restplus import Api\n",
    "from flask.ext.restplus import fields\n",
    "from sklearn.externals import joblib\n",
    "\n",
    "app = Flask(__name__)\n",
    "\n",
    "api = Api(\n",
    "   app, \n",
    "   version='1.0', \n",
    "   title='Credit API',\n",
    "   description='A simple Prediction API')\n",
    "\n",
    "ns = api.namespace('approve_credit', \n",
    "   description='Approve Credit Operations')"
   ]
  },
  {
   "cell_type": "markdown",
   "metadata": {},
   "source": [
    "Setup parser"
   ]
  },
  {
   "cell_type": "code",
   "execution_count": 22,
   "metadata": {
    "collapsed": false
   },
   "outputs": [
    {
     "data": {
      "text/plain": [
       "<flask_restplus.reqparse.RequestParser at 0x1112afbe0>"
      ]
     },
     "execution_count": 22,
     "metadata": {},
     "output_type": "execute_result"
    }
   ],
   "source": [
    "parser = api.parser()\n",
    "parser.add_argument(\n",
    "   'RevolvingUtilizationOfUnsecuredLines', \n",
    "   type=float, \n",
    "   required=True, \n",
    "   help='Total balance on credit cards and personal lines of credit except real estate and no installment debt like car loans divided by the sum of credit limits', \n",
    "   location='form')\n",
    "parser.add_argument(\n",
    "   'age', \n",
    "   type=float, \n",
    "   required=True, \n",
    "   help='Age of borrower in years',\n",
    "   location='form')\n",
    "parser.add_argument(\n",
    "   'NumberOfTime30-59DaysPastDueNotWorse', \n",
    "   type=float, \n",
    "   required=True, \n",
    "   help='Number of times borrower has been 30-59 days past due but no worse in the last 2 years.',\n",
    "   location='form')\n",
    "parser.add_argument(\n",
    "   'DebtRatio', \n",
    "   type=float, \n",
    "   required=True, \n",
    "   help='Monthly debt payments, alimony,living costs divided by monthy gross income',\n",
    "   location='form')\n",
    "parser.add_argument(\n",
    "   'MonthlyIncome', \n",
    "   type=float, \n",
    "   required=True, \n",
    "   help='Monthly income',\n",
    "   location='form')\n",
    "parser.add_argument(\n",
    "   'NumberOfOpenCreditLinesAndLoans', \n",
    "   type=float, \n",
    "   required=True, \n",
    "   help='Number of Open loans (installment like car loan or mortgage) and Lines of credit (e.g. credit cards)',\n",
    "   location='form')\n",
    "parser.add_argument(\n",
    "   'NumberOfTimes90DaysLate', \n",
    "   type=float, \n",
    "   required=True, \n",
    "   help='Number of times borrower has been 90 days or more past due.',\n",
    "   location='form')\n",
    "parser.add_argument(\n",
    "   'NumberRealEstateLoansOrLines', \n",
    "   type=float, \n",
    "   required=True, \n",
    "   help='Number of mortgage and real estate loans including home equity lines of credit',\n",
    "   location='form')\n",
    "parser.add_argument(\n",
    "   'NumberOfTime60-89DaysPastDueNotWorse', \n",
    "   type=float, \n",
    "   required=True, \n",
    "   help='Number of mortgage and real estate loans including home equity lines of credit',\n",
    "   location='form')\n",
    "parser.add_argument(\n",
    "   'NumberOfDependents', \n",
    "   type=float, \n",
    "   required=True, \n",
    "   help='Number of mortgage and real estate loans including home equity lines of credit',\n",
    "   location='form')"
   ]
  },
  {
   "cell_type": "markdown",
   "metadata": {},
   "source": [
    "Setup Web API"
   ]
  },
  {
   "cell_type": "code",
   "execution_count": 23,
   "metadata": {
    "collapsed": false
   },
   "outputs": [
    {
     "ename": "SystemExit",
     "evalue": "1",
     "output_type": "error",
     "traceback": [
      "An exception has occurred, use %tb to see the full traceback.\n",
      "\u001b[0;31mSystemExit\u001b[0m\u001b[0;31m:\u001b[0m 1\n"
     ]
    },
    {
     "name": "stderr",
     "output_type": "stream",
     "text": [
      "To exit: use 'exit', 'quit', or Ctrl-D.\n"
     ]
    }
   ],
   "source": [
    "resource_fields = api.model('Resource', {\n",
    "    'result': fields.String,\n",
    "})\n",
    "\n",
    "from flask.ext.restplus import Resource\n",
    "@ns.route('/')\n",
    "class CreditApi(Resource):\n",
    "\n",
    "   @api.doc(parser=parser)\n",
    "   @api.marshal_with(resource_fields)\n",
    "   def post(self):\n",
    "     args = parser.parse_args()\n",
    "     result = self.get_result(args)\n",
    "\n",
    "     return result, 201\n",
    "\n",
    "   def get_result(self, args):\n",
    "      debtRatio = args[\"DebtRatio\"]\n",
    "      monthlyIncome = args[\"MonthlyIncome\"]\n",
    "      dependents = args[\"NumberOfDependents\"]\n",
    "      openCreditLinesAndLoans = args[\"NumberOfOpenCreditLinesAndLoans\"]\n",
    "      pastDue30Days = args[\"NumberOfTime30-59DaysPastDueNotWorse\"]\n",
    "      pastDue60Days = args[\"NumberOfTime60-89DaysPastDueNotWorse\"]\n",
    "      pastDue90Days = args[\"NumberOfTimes90DaysLate\"]\n",
    "      realEstateLoansOrLines = args[\"NumberRealEstateLoansOrLines\"]\n",
    "      unsecuredLines = args[\"RevolvingUtilizationOfUnsecuredLines\"]\n",
    "      age = args[\"age\"] \n",
    "\n",
    "      from pandas import DataFrame\n",
    "      df = DataFrame([[\n",
    "         debtRatio,\n",
    "         monthlyIncome,\n",
    "         dependents,\n",
    "         openCreditLinesAndLoans,\n",
    "         pastDue30Days,\n",
    "         pastDue60Days,\n",
    "         pastDue90Days,\n",
    "         realEstateLoansOrLines,\n",
    "         unsecuredLines,\n",
    "         age\n",
    "      ]])\n",
    "\n",
    "      clf = joblib.load('model/nb.pkl');\n",
    "\n",
    "      result = clf.predict(df)\n",
    "      if(result[0] == 1.0): \n",
    "         result = \"deny\" \n",
    "      else: \n",
    "         result = \"approve\"\n",
    "\n",
    "      return {\n",
    "         \"result\": result\n",
    "      }\n",
    "\n",
    "if __name__ == '__main__':\n",
    "    app.run(debug=True)"
   ]
  },
  {
   "cell_type": "code",
   "execution_count": null,
   "metadata": {
    "collapsed": true
   },
   "outputs": [],
   "source": []
  }
 ],
 "metadata": {
  "kernelspec": {
   "display_name": "Python 3",
   "language": "python",
   "name": "python3"
  },
  "language_info": {
   "codemirror_mode": {
    "name": "ipython",
    "version": 3
   },
   "file_extension": ".py",
   "mimetype": "text/x-python",
   "name": "python",
   "nbconvert_exporter": "python",
   "pygments_lexer": "ipython3",
   "version": "3.5.1"
  }
 },
 "nbformat": 4,
 "nbformat_minor": 0
}
