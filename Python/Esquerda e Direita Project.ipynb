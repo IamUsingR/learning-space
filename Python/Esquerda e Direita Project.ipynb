{
 "cells": [
  {
   "cell_type": "markdown",
   "metadata": {},
   "source": [
    "# Esquerda e Direta Project "
   ]
  },
  {
   "cell_type": "code",
   "execution_count": 2,
   "metadata": {
    "collapsed": false
   },
   "outputs": [],
   "source": [
    "#!/usr/bin/env python\n",
    "# encoding: utf-8\n",
    "\n",
    "import tweepy #https://github.com/tweepy/tweepy\n",
    "import csv\n",
    "\n",
    "# Credit: https://gist.github.com/yanofsky/5436496\n",
    "\n",
    "#Twitter API credentials\n",
    "consumer_key = ''\n",
    "consumer_secret = ''\n",
    "access_key = ''\n",
    "access_secret = ''\n",
    "\n",
    "def get_all_tweets(screen_name):\n",
    "    #Twitter only allows access to a users most recent 3240 tweets with this method\n",
    "\n",
    "    #authorize twitter, initialize tweepy\n",
    "    auth = tweepy.OAuthHandler(consumer_key, consumer_secret)\n",
    "    auth.set_access_token(access_key, access_secret)\n",
    "    api = tweepy.API(auth)\n",
    "\n",
    "    #initialize a list to hold all the tweepy Tweets\n",
    "    alltweets = []\n",
    "\n",
    "    #make initial request for most recent tweets (200 is the maximum allowed count)\n",
    "    new_tweets = api.user_timeline(screen_name = screen_name,count=200)\n",
    "\n",
    "    #save most recent tweets\n",
    "    alltweets.extend(new_tweets)\n",
    "\n",
    "    #save the id of the oldest tweet less one\n",
    "    oldest = alltweets[-1].id - 1\n",
    "\n",
    "    #keep grabbing tweets until there are no tweets left to grab\n",
    "    while len(new_tweets) > 0:\n",
    "        print (\"getting tweets before %s\" % (oldest))\n",
    "\n",
    "        #all subsiquent requests use the max_id param to prevent duplicates\n",
    "        new_tweets = api.user_timeline(screen_name = screen_name,count=200,max_id=oldest)\n",
    "\n",
    "        #save most recent tweets\n",
    "        alltweets.extend(new_tweets)\n",
    "\n",
    "        #update the id of the oldest tweet less one\n",
    "        oldest = alltweets[-1].id - 1\n",
    "\n",
    "        print (\"...%s tweets downloaded so far\" % (len(alltweets)))\n",
    "\n",
    "    #transform the tweepy tweets into a 2D array that will populate the csv\n",
    "    outtweets = [[tweet.id_str, tweet.created_at, tweet.text.encode(\"utf-8\")] for tweet in alltweets]\n",
    "\n",
    "    #write the csv\n",
    "    with open('%s_tweets.csv' % screen_name, 'w') as f:\n",
    "        writer = csv.writer(f)\n",
    "        writer.writerow([\"id\",\"created_at\",\"text\"])\n",
    "        writer.writerows(outtweets)\n",
    "\n",
    "    pass\n",
    "\n",
    "\n",
    "#if __name__ == '__main__':"
   ]
  },
  {
   "cell_type": "code",
   "execution_count": 3,
   "metadata": {
    "collapsed": false
   },
   "outputs": [
    {
     "name": "stdout",
     "output_type": "stream",
     "text": [
      "getting tweets before 829160954302693376\n",
      "...398 tweets downloaded so far\n",
      "getting tweets before 826426911568121856\n",
      "...597 tweets downloaded so far\n",
      "getting tweets before 824995441083314175\n",
      "...797 tweets downloaded so far\n",
      "getting tweets before 822438782435753987\n",
      "...997 tweets downloaded so far\n",
      "getting tweets before 820258402354036736\n",
      "...1195 tweets downloaded so far\n",
      "getting tweets before 818586654696935423\n",
      "...1395 tweets downloaded so far\n",
      "getting tweets before 815271246124511235\n",
      "...1595 tweets downloaded so far\n",
      "getting tweets before 811319314045423615\n",
      "...1793 tweets downloaded so far\n",
      "getting tweets before 806459174481694719\n",
      "...1992 tweets downloaded so far\n",
      "getting tweets before 803975323817771007\n",
      "...2191 tweets downloaded so far\n",
      "getting tweets before 802522642221699071\n",
      "...2391 tweets downloaded so far\n",
      "getting tweets before 801104690888970239\n",
      "...2591 tweets downloaded so far\n",
      "getting tweets before 797897555573088255\n",
      "...2791 tweets downloaded so far\n",
      "getting tweets before 794693798936907775\n",
      "...2990 tweets downloaded so far\n",
      "getting tweets before 793154701596450815\n",
      "...3190 tweets downloaded so far\n",
      "getting tweets before 790682326107914239\n",
      "...3240 tweets downloaded so far\n",
      "getting tweets before 789928514057363456\n",
      "...3240 tweets downloaded so far\n"
     ]
    }
   ],
   "source": [
    "get_all_tweets(\"user_of_twitter\")"
   ]
  },
  {
   "cell_type": "code",
   "execution_count": null,
   "metadata": {
    "collapsed": true
   },
   "outputs": [],
   "source": []
  }
 ],
 "metadata": {
  "kernelspec": {
   "display_name": "Python 3",
   "language": "python",
   "name": "python3"
  },
  "language_info": {
   "codemirror_mode": {
    "name": "ipython",
    "version": 3
   },
   "file_extension": ".py",
   "mimetype": "text/x-python",
   "name": "python",
   "nbconvert_exporter": "python",
   "pygments_lexer": "ipython3",
   "version": "3.5.2"
  }
 },
 "nbformat": 4,
 "nbformat_minor": 0
}
