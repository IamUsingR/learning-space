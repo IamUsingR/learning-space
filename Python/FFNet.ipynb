{
 "cells": [
  {
   "cell_type": "markdown",
   "metadata": {},
   "source": [
    "`$ pip install ffnet`"
   ]
  },
  {
   "cell_type": "code",
   "execution_count": 1,
   "metadata": {
    "collapsed": false
   },
   "outputs": [
    {
     "name": "stderr",
     "output_type": "stream",
     "text": [
      "testReadData (ffnet._tests.TestDataReader) ... ok\n",
      "testArray (ffnet._tests.TestExport2Fortran) ... ok\n",
      "testCall (ffnet._tests.TestFfnetSigmoid) ... ok\n",
      "testDerivative (ffnet._tests.TestFfnetSigmoid) ... ok\n",
      "testDerivative2 (ffnet._tests.TestFfnetSigmoid) ... ok\n",
      "testRenormalize (ffnet._tests.TestFfnetSigmoid) ... ok\n",
      "testSqerror (ffnet._tests.TestFfnetSigmoid) ... ok\n",
      "testSqgrad (ffnet._tests.TestFfnetSigmoid) ... ok\n",
      "testTestdata (ffnet._tests.TestFfnetSigmoid) ... ok\n",
      "testTrainBfgs (ffnet._tests.TestFfnetSigmoid) ... ok\n",
      "testTrainCg (ffnet._tests.TestFfnetSigmoid) ... "
     ]
    },
    {
     "name": "stdout",
     "output_type": "stream",
     "text": [
      "Test of BFGS algorithm\n",
      "Skipped because of problems on some scipy compilations.\n",
      "Test of conjugate gradient algorithm\n",
      "Optimization terminated successfully.\n",
      "         Current function value: 0.000000\n",
      "         Iterations: 39\n",
      "         Function evaluations: 128\n",
      "         Gradient evaluations: 128\n"
     ]
    },
    {
     "name": "stderr",
     "output_type": "stream",
     "text": [
      "ok\n",
      "testTrainGenetic (ffnet._tests.TestFfnetSigmoid) ... ok\n",
      "testTrainMomentum (ffnet._tests.TestFfnetSigmoid) ... ok\n",
      "testTrainRprop (ffnet._tests.TestFfnetSigmoid) ... ok\n",
      "testTrainTnc (ffnet._tests.TestFfnetSigmoid) ... ok\n",
      "testTrainTncMp (ffnet._tests.TestFfnetSigmoid) ... "
     ]
    },
    {
     "name": "stdout",
     "output_type": "stream",
     "text": [
      "Testing results for 4 testing cases:\n",
      "OUTPUT 1 (node nr 4):\n",
      "Regression line parameters:\n",
      "slope         =  0.999989\n",
      "intercept     = -0.000009\n",
      "r-value       =  1.000000\n",
      "p-value       =  0.000000\n",
      "slope stderr  =  0.000014\n",
      "estim. stderr =  0.000014\n",
      "\n",
      "Test of genetic algorithm optimization\n",
      "Testing results for 4 testing cases:\n",
      "OUTPUT 1 (node nr 4):\n",
      "Regression line parameters:\n",
      "slope         =  1.094433\n",
      "intercept     = -0.044136\n",
      "r-value       =  0.997480\n",
      "p-value       =  0.002520\n",
      "slope stderr  =  0.055044\n",
      "estim. stderr =  0.055044\n",
      "\n",
      "Test of backpropagation momentum algorithm\n",
      "Testing results for 4 testing cases:\n",
      "OUTPUT 1 (node nr 4):\n",
      "Regression line parameters:\n",
      "slope         =  0.994933\n",
      "intercept     =  0.002470\n",
      "r-value       =  0.999999\n",
      "p-value       =  0.000001\n",
      "slope stderr  =  0.001199\n",
      "estim. stderr =  0.001199\n",
      "\n",
      "Test of rprop algorithm\n",
      "Initial error --> 0.5*(sum of squared errors at output): 0.531261475569617\n",
      "Final error   --> 0.5*(sum of squared errors at output): 0.000000000000438\n",
      "Testing results for 4 testing cases:\n",
      "OUTPUT 1 (node nr 4):\n",
      "Regression line parameters:\n",
      "slope         =  0.999999\n",
      "intercept     =  0.000000\n",
      "r-value       =  1.000000\n",
      "p-value       =  0.000000\n",
      "slope stderr  =  0.000001\n",
      "estim. stderr =  0.000001\n",
      "\n",
      "Test of TNC algorithm\n",
      "Testing results for 4 testing cases:\n",
      "OUTPUT 1 (node nr 4):\n",
      "Regression line parameters:\n",
      "slope         =  0.999998\n",
      "intercept     =  0.000002\n",
      "r-value       =  1.000000\n",
      "p-value       =  0.000000\n",
      "slope stderr  =  0.000002\n",
      "estim. stderr =  0.000002\n",
      "\n",
      "Test of TNC parallel algorithm\n"
     ]
    },
    {
     "name": "stderr",
     "output_type": "stream",
     "text": [
      "ok\n",
      "testExportNoDerivative (ffnet._tests.TestSaveLoadExport) ... "
     ]
    },
    {
     "name": "stdout",
     "output_type": "stream",
     "text": [
      "Testing results for 4 testing cases:\n",
      "OUTPUT 1 (node nr 4):\n",
      "Regression line parameters:\n",
      "slope         =  0.999997\n",
      "intercept     =  0.000002\n",
      "r-value       =  1.000000\n",
      "p-value       =  0.000000\n",
      "slope stderr  =  0.000002\n",
      "estim. stderr =  0.000002\n",
      "\n"
     ]
    },
    {
     "name": "stderr",
     "output_type": "stream",
     "text": [
      "ok\n",
      "testExportWithDerivative (ffnet._tests.TestSaveLoadExport) ... "
     ]
    },
    {
     "name": "stdout",
     "output_type": "stream",
     "text": [
      "/Volumes/PANZER/Github/learning-space/Python\n"
     ]
    },
    {
     "name": "stderr",
     "output_type": "stream",
     "text": [
      "ok\n",
      "testSaveLoad (ffnet._tests.TestSaveLoadExport) ... ok\n",
      "testNoCycles (ffnet._tests.Testbconec) ... ok\n",
      "testNoCycles (ffnet._tests.Testdconec) ... ok\n",
      "testNoCycles (ffnet._tests.Testdconec2) ... ok\n",
      "testEmpty (ffnet._tests.Testffconec) ... ok\n",
      "testNoCycles (ffnet._tests.Testffconec) ... ok\n",
      "testWithCycles (ffnet._tests.Testffconec) ... ok\n",
      "testEmpty (ffnet._tests.Testimlgraph) ... ok\n",
      "testNoBiases (ffnet._tests.Testimlgraph) ... ok\n",
      "testOneLayer (ffnet._tests.Testimlgraph) ... ok\n",
      "testThreeLayers (ffnet._tests.Testimlgraph) ... ok\n",
      "testTwoLayers (ffnet._tests.Testimlgraph) ... ok\n",
      "testEqualInRanges (ffnet._tests.Testlinear) ... ok\n",
      "testEqualOutRanges (ffnet._tests.Testlinear) ... ok\n",
      "testNormalCase (ffnet._tests.Testlinear) ... ok\n",
      "testEmpty (ffnet._tests.Testmlgraph) ... ok\n",
      "testNoBiases (ffnet._tests.Testmlgraph) ... ok\n",
      "testOneLayer (ffnet._tests.Testmlgraph) ... ok\n",
      "testThreeLayers (ffnet._tests.Testmlgraph) ... ok\n",
      "testTwoLayers (ffnet._tests.Testmlgraph) ... ok\n",
      "testEmpty (ffnet._tests.Testnormarray) ... ok\n",
      "testOneColumn (ffnet._tests.Testnormarray) ... ok\n",
      "testEmpty (ffnet._tests.Testnorms) ... ok\n",
      "testNormalCase (ffnet._tests.Testnorms) ... ok\n",
      "testOneColumn (ffnet._tests.Testnorms) ... ok\n",
      "testEmpty (ffnet._tests.Testtmlgraph) ... ok\n",
      "testNoBiases (ffnet._tests.Testtmlgraph) ... ok\n",
      "testOneLayer (ffnet._tests.Testtmlgraph) ... ok\n",
      "testThreeLayers (ffnet._tests.Testtmlgraph) ... ok\n",
      "testTwoLayers (ffnet._tests.Testtmlgraph) ... ok\n",
      "\n",
      "----------------------------------------------------------------------\n",
      "Ran 48 tests in 15.388s\n",
      "\n",
      "OK\n"
     ]
    }
   ],
   "source": [
    "from ffnet._tests import runtest\n",
    "runtest()"
   ]
  },
  {
   "cell_type": "markdown",
   "metadata": {},
   "source": [
    "# Sine training"
   ]
  },
  {
   "cell_type": "code",
   "execution_count": 2,
   "metadata": {
    "collapsed": true
   },
   "outputs": [],
   "source": [
    "### Sine training example for ffnet ###\n",
    "from ffnet import ffnet\n",
    "from math import pi, sin, cos"
   ]
  },
  {
   "cell_type": "code",
   "execution_count": 3,
   "metadata": {
    "collapsed": true
   },
   "outputs": [],
   "source": [
    "# Let's define network connectivity by hand:\n",
    "conec = [(1, 2), (1, 3), (1, 4), (1, 5), (2, 6), (3, 6), (4, 6), (5, 6), \\\n",
    "         (0, 2), (0, 3), (0, 4), (0, 5), (0, 6)]\n",
    "# Note 1: Biases in ffnet are handled as the connections\n",
    "#         from special node numbered 0. Input nodes cannot be biased.\n",
    "# Note 2: Node numbering and order of links in conec is meaningless,\n",
    "#         but the connections have to be from source to target.\n",
    "# Note 3: The same connectivity can be obtained using mlgraph function\n",
    "#         provided with ffnet (layered architecture (1,4,1))."
   ]
  },
  {
   "cell_type": "code",
   "execution_count": 4,
   "metadata": {
    "collapsed": false
   },
   "outputs": [
    {
     "data": {
      "text/plain": [
       "[(1, 2),\n",
       " (1, 3),\n",
       " (1, 4),\n",
       " (1, 5),\n",
       " (2, 6),\n",
       " (3, 6),\n",
       " (4, 6),\n",
       " (5, 6),\n",
       " (0, 2),\n",
       " (0, 3),\n",
       " (0, 4),\n",
       " (0, 5),\n",
       " (0, 6)]"
      ]
     },
     "execution_count": 4,
     "metadata": {},
     "output_type": "execute_result"
    }
   ],
   "source": [
    "conec"
   ]
  },
  {
   "cell_type": "code",
   "execution_count": 5,
   "metadata": {
    "collapsed": true
   },
   "outputs": [],
   "source": [
    "# Network creation\n",
    "net = ffnet(conec)"
   ]
  },
  {
   "cell_type": "code",
   "execution_count": 6,
   "metadata": {
    "collapsed": true
   },
   "outputs": [],
   "source": [
    "# Generation of training data (sine values for x from 0 to 2*pi)\n",
    "patterns = 16\n",
    "input = [ [ 0. ] ] + [ [ k*2*pi/patterns ] for k in xrange(1, patterns + 1) ]\n",
    "target = [ [ sin(x[0]) ] for x in input ]"
   ]
  },
  {
   "cell_type": "code",
   "execution_count": 7,
   "metadata": {
    "collapsed": false
   },
   "outputs": [
    {
     "name": "stdout",
     "output_type": "stream",
     "text": [
      "FINDING STARTING WEIGHTS WITH GENETIC ALGORITHM...\n",
      "TRAINING NETWORK...\n"
     ]
    }
   ],
   "source": [
    "# Training network\n",
    "#first find good starting point with genetic algorithm (not necessary, but may be helpful)\n",
    "print \"FINDING STARTING WEIGHTS WITH GENETIC ALGORITHM...\"\n",
    "net.train_genetic(input, target, individuals=20, generations=500)\n",
    "\n",
    "#then train with scipy tnc optimizer\n",
    "print \"TRAINING NETWORK...\"\n",
    "net.train_tnc(input, target, maxfun = 5000, messages=1)"
   ]
  },
  {
   "cell_type": "code",
   "execution_count": 8,
   "metadata": {
    "collapsed": false
   },
   "outputs": [
    {
     "name": "stdout",
     "output_type": "stream",
     "text": [
      "\n",
      "TESTNG NETWORK...\n",
      "Feed-forward neural network: \n",
      "inputs:     1 \n",
      "hiddens:    4 \n",
      "outputs:    1 \n",
      "connections and biases:   13\n",
      "\n",
      "Testing results for 17 testing cases:\n",
      "OUTPUT 1 (node nr 6):\n",
      "Targets vs. outputs:\n",
      "   1      0.000000      0.006890\n",
      "   2      0.382683      0.360870\n",
      "   3      0.707107      0.731372\n",
      "   4      0.923880      0.935009\n",
      "   5      1.000000      0.978889\n",
      "   6      0.923880      0.902681\n",
      "   7      0.707107      0.711834\n",
      "   8      0.382683      0.402873\n",
      "   9      0.000000      0.005444\n",
      "  10     -0.382683     -0.398919\n",
      "  11     -0.707107     -0.719089\n",
      "  12     -0.923880     -0.912762\n",
      "  13     -1.000000     -0.982405\n",
      "  14     -0.923880     -0.928290\n",
      "  15     -0.707107     -0.723047\n",
      "  16     -0.382683     -0.369628\n",
      "  17     -0.000000     -0.003909\n",
      "Regression line parameters:\n",
      "slope         =  0.998330\n",
      "intercept     = -0.000129\n",
      "r-value       =  0.999758\n",
      "p-value       =  0.000000\n",
      "slope stderr  =  0.005677\n",
      "estim. stderr =  0.016057\n",
      "\n"
     ]
    }
   ],
   "source": [
    "# Testing network\n",
    "print\n",
    "print \"TESTNG NETWORK...\"\n",
    "output, regression = net.test(input, target, iprint = 2)"
   ]
  },
  {
   "cell_type": "code",
   "execution_count": 9,
   "metadata": {
    "collapsed": false
   },
   "outputs": [
    {
     "data": {
      "image/png": "[encoded data removed]",
      "text/plain": [
       "<matplotlib.figure.Figure at 0x1113d0250>"
      ]
     },
     "metadata": {},
     "output_type": "display_data"
    }
   ],
   "source": [
    "#################\n",
    "# Make some plots\n",
    "try:\n",
    "    from pylab import *\n",
    "    points = 128\n",
    "    xaxis = [ 0. ] + [ k*2*pi/points for k in xrange(1, points + 1) ]\n",
    "    sine = [ sin(x) for x in xaxis ]\n",
    "    cosine = [ cos(x) for x in xaxis ]\n",
    "    netsine = [ net([x])[0] for x in xaxis]\n",
    "    netcosine = [ net.derivative([x])[0][0] for x in xaxis ]\n",
    "\n",
    "    subplot(211)\n",
    "    plot(xaxis, sine, 'b--', xaxis, netsine, 'k-')\n",
    "    legend(('sine', 'network output'))\n",
    "    grid(True)\n",
    "    title('Outputs of trained network.')\n",
    "\n",
    "    subplot(212)\n",
    "    plot(xaxis, cosine, 'b--', xaxis, netcosine, 'k-')\n",
    "    legend(('cosine', 'network derivative'))\n",
    "    grid(True)\n",
    "    show()\n",
    "except ImportError:\n",
    "    print \"Cannot make plots. For plotting install matplotlib...\""
   ]
  },
  {
   "cell_type": "markdown",
   "metadata": {},
   "source": [
    "# Parallel training"
   ]
  },
  {
   "cell_type": "code",
   "execution_count": 10,
   "metadata": {
    "collapsed": true
   },
   "outputs": [],
   "source": [
    "### Multiprocessing training example for ffnet ###\n",
    "from ffnet import ffnet, mlgraph\n",
    "from scipy import rand"
   ]
  },
  {
   "cell_type": "code",
   "execution_count": 11,
   "metadata": {
    "collapsed": true
   },
   "outputs": [],
   "source": [
    "# Generate random training data (large)\n",
    "input = rand(10000, 10)\n",
    "target = rand(10000, 1)"
   ]
  },
  {
   "cell_type": "code",
   "execution_count": 12,
   "metadata": {
    "collapsed": true
   },
   "outputs": [],
   "source": [
    "# Define net (large one)\n",
    "conec = mlgraph((10,300,1))\n",
    "net = ffnet(conec)"
   ]
  },
  {
   "cell_type": "code",
   "execution_count": 13,
   "metadata": {
    "collapsed": false
   },
   "outputs": [
    {
     "name": "stdout",
     "output_type": "stream",
     "text": [
      "TRAINING, this can take a while...\n",
      "1 processes: 18.0541059971 s\n",
      "2 processes: 11.8374271393 s\n",
      "3 processes: 9.49290299416 s\n",
      "4 processes: 10.1462590694 s\n"
     ]
    }
   ],
   "source": [
    "# Test training speed-up\n",
    "# Note that the below *if* is necessary only on Windows\n",
    "if __name__=='__main__':    \n",
    "    from time import time\n",
    "    from multiprocessing import cpu_count\n",
    "    \n",
    "    # Preserve original weights\n",
    "    weights0 = net.weights.copy()\n",
    "    \n",
    "    print \"TRAINING, this can take a while...\"\n",
    "    for n in range(1, cpu_count()+1):\n",
    "        net.weights[:] = weights0  #Start always from the same point\n",
    "        t0 = time()\n",
    "        net.train_tnc(input, target, nproc = n, maxfun=50, messages=0)\n",
    "        t1 = time()\n",
    "        print '%s processes: %s s' %(n, t1-t0)"
   ]
  },
  {
   "cell_type": "markdown",
   "metadata": {},
   "source": [
    "# Black-Scholes option pricing"
   ]
  },
  {
   "cell_type": "code",
   "execution_count": 15,
   "metadata": {
    "collapsed": true
   },
   "outputs": [],
   "source": [
    "### stock problem example for ffnet ###\n",
    "\n",
    "# Data and description for this example is borrowed from:\n",
    "# http://www.scientific-consultants.com/nnbd.html\n",
    "#\n",
    "#\n",
    "# Training data consists of Black-Scholes option prices\n",
    "# for volatility levels running from 20 percent to 200 percent,\n",
    "# for time remaining running from 5 to 15 days, and for strike price\n",
    "# running from 70 dollars to 130 dollars. The stock price was set to\n",
    "# 100 dollars and the interest rate to 0 percent when generating\n",
    "# the data.\n",
    "#\n",
    "# The data is \"difficult\" in that (for a neural network to\n",
    "# practically emulate Black-Scholes) a very tight fit is required.\n",
    "# The R-squared should be at least 0.999999 or better, and the largest\n",
    "# absolute error must be less than 0.05 dollars (the price increment\n",
    "# for most options) or, better yet, less than 0.01 dollars.\n",
    "#\n",
    "#\n",
    "# So let's try.\n",
    "# Attention: training might be a long process since we train a big network.\n",
    "from ffnet import ffnet, mlgraph, readdata\n",
    "from numpy import array"
   ]
  },
  {
   "cell_type": "code",
   "execution_count": 16,
   "metadata": {
    "collapsed": true
   },
   "outputs": [],
   "source": [
    "# Generate standard layered network architecture and create network\n",
    "conec = mlgraph((3,22,12,1))\n",
    "net = ffnet(conec)"
   ]
  },
  {
   "cell_type": "code",
   "execution_count": 17,
   "metadata": {
    "collapsed": false
   },
   "outputs": [
    {
     "name": "stdout",
     "output_type": "stream",
     "text": [
      "READING DATA...\n"
     ]
    }
   ],
   "source": [
    "# Read training data omitting first column and first line\n",
    "print \"READING DATA...\"\n",
    "data = readdata( '/Volumes/PANZER/Github/learning-space/Datasets/04 - Linear Regression/black-scholes.dat',\n",
    "                 usecols  = (1, 2, 3, 4),\n",
    "                 skiprows =  1)\n",
    "input =  data[:, :3] #first 3 columns\n",
    "target = data[:, -1] #last column"
   ]
  },
  {
   "cell_type": "code",
   "execution_count": 18,
   "metadata": {
    "collapsed": false
   },
   "outputs": [
    {
     "name": "stdout",
     "output_type": "stream",
     "text": [
      "TRAINING NETWORK...\n"
     ]
    }
   ],
   "source": [
    "print \"TRAINING NETWORK...\"\n",
    "import sys; sys.stdout.flush() #Just to ensure dislpaing the above messages here\n",
    "net.train_tnc(input, target, maxfun = 5000, messages=1)"
   ]
  },
  {
   "cell_type": "code",
   "execution_count": 19,
   "metadata": {
    "collapsed": false
   },
   "outputs": [
    {
     "name": "stdout",
     "output_type": "stream",
     "text": [
      "\n",
      "TESTING NETWORK...\n",
      "R-squared:           0.999998879124  (should be >= 0.999999)\n",
      "max. absolute error: 0.104672411639  (should be <= 0.05)\n",
      "\n",
      "Is ffnet ready for a stock?\n"
     ]
    }
   ],
   "source": [
    "# Test network\n",
    "print\n",
    "print \"TESTING NETWORK...\"\n",
    "output, regression = net.test(input, target, iprint = 0)\n",
    "Rsquared = regression[0][2]\n",
    "maxerr = abs( array(output).reshape( len(output) ) - array(target) ).max()\n",
    "print \"R-squared:           %s  (should be >= 0.999999)\" %str(Rsquared)\n",
    "print \"max. absolute error: %s  (should be <= 0.05)\" %str(maxerr)\n",
    "print\n",
    "print \"Is ffnet ready for a stock?\""
   ]
  },
  {
   "cell_type": "code",
   "execution_count": 20,
   "metadata": {
    "collapsed": false
   },
   "outputs": [
    {
     "data": {
      "image/png": "[encoded data removed]",
      "text/plain": [
       "<matplotlib.figure.Figure at 0x111c6e750>"
      ]
     },
     "metadata": {},
     "output_type": "display_data"
    }
   ],
   "source": [
    "#####################################\n",
    "# Make plot if matplotlib is avialble\n",
    "try:\n",
    "    from pylab import *\n",
    "    plot( target, 'b--' )\n",
    "    plot( output, 'k-' )\n",
    "    legend(('target', 'output'))\n",
    "    xlabel('pattern'); ylabel('price')\n",
    "    title('Outputs vs. target of trained network.')\n",
    "    grid(True)\n",
    "    show()\n",
    "except ImportError, e:\n",
    "    print \"Cannot make plots. For plotting install matplotlib.\\n%s\" % e"
   ]
  },
  {
   "cell_type": "markdown",
   "metadata": {},
   "source": [
    "# XOR Problem"
   ]
  },
  {
   "cell_type": "code",
   "execution_count": null,
   "metadata": {
    "collapsed": true
   },
   "outputs": [],
   "source": []
  },
  {
   "cell_type": "code",
   "execution_count": null,
   "metadata": {
    "collapsed": true
   },
   "outputs": [],
   "source": []
  },
  {
   "cell_type": "code",
   "execution_count": null,
   "metadata": {
    "collapsed": true
   },
   "outputs": [],
   "source": []
  },
  {
   "cell_type": "code",
   "execution_count": null,
   "metadata": {
    "collapsed": true
   },
   "outputs": [],
   "source": []
  },
  {
   "cell_type": "code",
   "execution_count": null,
   "metadata": {
    "collapsed": true
   },
   "outputs": [],
   "source": []
  },
  {
   "cell_type": "code",
   "execution_count": null,
   "metadata": {
    "collapsed": true
   },
   "outputs": [],
   "source": []
  },
  {
   "cell_type": "code",
   "execution_count": null,
   "metadata": {
    "collapsed": true
   },
   "outputs": [],
   "source": []
  },
  {
   "cell_type": "code",
   "execution_count": null,
   "metadata": {
    "collapsed": true
   },
   "outputs": [],
   "source": []
  },
  {
   "cell_type": "code",
   "execution_count": null,
   "metadata": {
    "collapsed": true
   },
   "outputs": [],
   "source": []
  },
  {
   "cell_type": "code",
   "execution_count": null,
   "metadata": {
    "collapsed": true
   },
   "outputs": [],
   "source": []
  },
  {
   "cell_type": "code",
   "execution_count": null,
   "metadata": {
    "collapsed": true
   },
   "outputs": [],
   "source": []
  }
 ],
 "metadata": {
  "kernelspec": {
   "display_name": "Python 2",
   "language": "python",
   "name": "python2"
  },
  "language_info": {
   "codemirror_mode": {
    "name": "ipython",
    "version": 2
   },
   "file_extension": ".py",
   "mimetype": "text/x-python",
   "name": "python",
   "nbconvert_exporter": "python",
   "pygments_lexer": "ipython2",
   "version": "2.7.13"
  }
 },
 "nbformat": 4,
 "nbformat_minor": 2
}
