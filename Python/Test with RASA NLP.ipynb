{
 "cells": [
  {
   "cell_type": "markdown",
   "metadata": {},
   "source": [
    "0) Installation \n",
    "\n",
    "MITTE: For _corpus_  \n",
    "`pip install git+https://github.com/mit-nlp/MITIE.git`\n",
    "\n",
    "Spacy: For _corpus_  \n",
    "`pip install -U spacy`\n",
    "\n",
    "Rasa NLU: For NLP programming  \n",
    "`pip install rasa_nlu`\n",
    "\n",
    "Flask: For API/Web Service support  \n",
    "`pip install flask`\n",
    "\n",
    "Gevent: For coroutines with the API  \n",
    "`pip install gevent`"
   ]
  },
  {
   "cell_type": "markdown",
   "metadata": {},
   "source": [
    "1) Initiate the server  \n",
    "`$ python -m rasa_nlu.server`"
   ]
  },
  {
   "cell_type": "markdown",
   "metadata": {},
   "source": [
    "2) In shell script to see the version  \n",
    "`$ python -c \"import rasa_nlu; print rasa_nlu.__version__\"`\n"
   ]
  },
  {
   "cell_type": "code",
   "execution_count": null,
   "metadata": {
    "collapsed": true
   },
   "outputs": [],
   "source": []
  }
 ],
 "metadata": {
  "kernelspec": {
   "display_name": "Python 2",
   "language": "python",
   "name": "python2"
  },
  "language_info": {
   "codemirror_mode": {
    "name": "ipython",
    "version": 2
   },
   "file_extension": ".py",
   "mimetype": "text/x-python",
   "name": "python",
   "nbconvert_exporter": "python",
   "pygments_lexer": "ipython2",
   "version": "2.7.13"
  }
 },
 "nbformat": 4,
 "nbformat_minor": 2
}
