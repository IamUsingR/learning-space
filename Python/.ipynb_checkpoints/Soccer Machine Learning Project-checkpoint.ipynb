{
 "cells": [
  {
   "cell_type": "markdown",
   "metadata": {},
   "source": [
    "# Soccer Machine Learning Project\n",
    "\n",
    "Based in [ODSC post](https://opendatascience.com/blog/clustering-the-beautiful-game-part-1/).\n",
    "\n",
    "Download data in this [link](https://www.kaggle.com/hugomathien/soccer)\n",
    "\n"
   ]
  },
  {
   "cell_type": "code",
   "execution_count": 1,
   "metadata": {
    "collapsed": true
   },
   "outputs": [],
   "source": [
    "import sqlite3\n",
    "import pandas as pd"
   ]
  },
  {
   "cell_type": "code",
   "execution_count": 2,
   "metadata": {
    "collapsed": true
   },
   "outputs": [],
   "source": [
    "db = \"/Users/flavio.clesio/Documents/Github/database.sqlite\""
   ]
  },
  {
   "cell_type": "code",
   "execution_count": null,
   "metadata": {
    "collapsed": false
   },
   "outputs": [],
   "source": [
    "with sqlite3.connect(db) as con:\n",
    "\n",
    "    player_attributes = pd.read_sql_query(\"SELECT * FROM Player_Attributes\", con)\n",
    "    players = pd.read_sql_query(\"SELECT * FROM Player\", con)\n",
    "    leagues = pd.read_sql_query(\"SELECT * FROM League\", con)\n",
    "    match = pd.read_sql_query(\"SELECT * FROM Match\", con)\n",
    "    team = pd.read_sql_query(\"SELECT * FROM Team\", con)\n",
    "    team_attributes = pd.read_sql_query(\"SELECT * FROM Team_Attributes\", con)\n",
    "    country = pd.read_sql_query(\"SELECT * FROM Country\", con)"
   ]
  },
  {
   "cell_type": "code",
   "execution_count": null,
   "metadata": {
    "collapsed": true
   },
   "outputs": [],
   "source": []
  }
 ],
 "metadata": {
  "kernelspec": {
   "display_name": "Python 3",
   "language": "python",
   "name": "python3"
  },
  "language_info": {
   "codemirror_mode": {
    "name": "ipython",
    "version": 3
   },
   "file_extension": ".py",
   "mimetype": "text/x-python",
   "name": "python",
   "nbconvert_exporter": "python",
   "pygments_lexer": "ipython3",
   "version": "3.5.2"
  }
 },
 "nbformat": 4,
 "nbformat_minor": 0
}
