{
 "cells": [
  {
   "cell_type": "markdown",
   "metadata": {},
   "source": [
    "The regression modeling it's one of the most common methods of Machine Learning"
   ]
  },
  {
   "cell_type": "code",
   "execution_count": 1,
   "metadata": {
    "collapsed": false
   },
   "outputs": [],
   "source": [
    "%matplotlib inline\n",
    "\n",
    "\n",
    "import numpy as np\n",
    "import matplotlib.pyplot as plt\n",
    "from sklearn import datasets\n",
    "from sklearn import linear_model"
   ]
  },
  {
   "cell_type": "markdown",
   "metadata": {},
   "source": [
    "Let's load diabetes dataset"
   ]
  },
  {
   "cell_type": "code",
   "execution_count": 2,
   "metadata": {
    "collapsed": false
   },
   "outputs": [],
   "source": [
    "diabetes = datasets.load_diabetes()"
   ]
  },
  {
   "cell_type": "markdown",
   "metadata": {},
   "source": [
    "Checking data"
   ]
  },
  {
   "cell_type": "code",
   "execution_count": 3,
   "metadata": {
    "collapsed": false
   },
   "outputs": [
    {
     "data": {
      "text/plain": [
       "array([[ 0.03807591,  0.05068012,  0.06169621, ..., -0.00259226,\n",
       "         0.01990842, -0.01764613],\n",
       "       [-0.00188202, -0.04464164, -0.05147406, ..., -0.03949338,\n",
       "        -0.06832974, -0.09220405],\n",
       "       [ 0.08529891,  0.05068012,  0.04445121, ..., -0.00259226,\n",
       "         0.00286377, -0.02593034],\n",
       "       ..., \n",
       "       [ 0.04170844,  0.05068012, -0.01590626, ..., -0.01107952,\n",
       "        -0.04687948,  0.01549073],\n",
       "       [-0.04547248, -0.04464164,  0.03906215, ...,  0.02655962,\n",
       "         0.04452837, -0.02593034],\n",
       "       [-0.04547248, -0.04464164, -0.0730303 , ..., -0.03949338,\n",
       "        -0.00421986,  0.00306441]])"
      ]
     },
     "execution_count": 3,
     "metadata": {},
     "output_type": "execute_result"
    }
   ],
   "source": [
    "diabetes.data"
   ]
  },
  {
   "cell_type": "code",
   "execution_count": 4,
   "metadata": {
    "collapsed": false
   },
   "outputs": [
    {
     "data": {
      "text/plain": [
       "array([ 151.,   75.,  141.,  206.,  135.,   97.,  138.,   63.,  110.,\n",
       "        310.,  101.,   69.,  179.,  185.,  118.,  171.,  166.,  144.,\n",
       "         97.,  168.,   68.,   49.,   68.,  245.,  184.,  202.,  137.,\n",
       "         85.,  131.,  283.,  129.,   59.,  341.,   87.,   65.,  102.,\n",
       "        265.,  276.,  252.,   90.,  100.,   55.,   61.,   92.,  259.,\n",
       "         53.,  190.,  142.,   75.,  142.,  155.,  225.,   59.,  104.,\n",
       "        182.,  128.,   52.,   37.,  170.,  170.,   61.,  144.,   52.,\n",
       "        128.,   71.,  163.,  150.,   97.,  160.,  178.,   48.,  270.,\n",
       "        202.,  111.,   85.,   42.,  170.,  200.,  252.,  113.,  143.,\n",
       "         51.,   52.,  210.,   65.,  141.,   55.,  134.,   42.,  111.,\n",
       "         98.,  164.,   48.,   96.,   90.,  162.,  150.,  279.,   92.,\n",
       "         83.,  128.,  102.,  302.,  198.,   95.,   53.,  134.,  144.,\n",
       "        232.,   81.,  104.,   59.,  246.,  297.,  258.,  229.,  275.,\n",
       "        281.,  179.,  200.,  200.,  173.,  180.,   84.,  121.,  161.,\n",
       "         99.,  109.,  115.,  268.,  274.,  158.,  107.,   83.,  103.,\n",
       "        272.,   85.,  280.,  336.,  281.,  118.,  317.,  235.,   60.,\n",
       "        174.,  259.,  178.,  128.,   96.,  126.,  288.,   88.,  292.,\n",
       "         71.,  197.,  186.,   25.,   84.,   96.,  195.,   53.,  217.,\n",
       "        172.,  131.,  214.,   59.,   70.,  220.,  268.,  152.,   47.,\n",
       "         74.,  295.,  101.,  151.,  127.,  237.,  225.,   81.,  151.,\n",
       "        107.,   64.,  138.,  185.,  265.,  101.,  137.,  143.,  141.,\n",
       "         79.,  292.,  178.,   91.,  116.,   86.,  122.,   72.,  129.,\n",
       "        142.,   90.,  158.,   39.,  196.,  222.,  277.,   99.,  196.,\n",
       "        202.,  155.,   77.,  191.,   70.,   73.,   49.,   65.,  263.,\n",
       "        248.,  296.,  214.,  185.,   78.,   93.,  252.,  150.,   77.,\n",
       "        208.,   77.,  108.,  160.,   53.,  220.,  154.,  259.,   90.,\n",
       "        246.,  124.,   67.,   72.,  257.,  262.,  275.,  177.,   71.,\n",
       "         47.,  187.,  125.,   78.,   51.,  258.,  215.,  303.,  243.,\n",
       "         91.,  150.,  310.,  153.,  346.,   63.,   89.,   50.,   39.,\n",
       "        103.,  308.,  116.,  145.,   74.,   45.,  115.,  264.,   87.,\n",
       "        202.,  127.,  182.,  241.,   66.,   94.,  283.,   64.,  102.,\n",
       "        200.,  265.,   94.,  230.,  181.,  156.,  233.,   60.,  219.,\n",
       "         80.,   68.,  332.,  248.,   84.,  200.,   55.,   85.,   89.,\n",
       "         31.,  129.,   83.,  275.,   65.,  198.,  236.,  253.,  124.,\n",
       "         44.,  172.,  114.,  142.,  109.,  180.,  144.,  163.,  147.,\n",
       "         97.,  220.,  190.,  109.,  191.,  122.,  230.,  242.,  248.,\n",
       "        249.,  192.,  131.,  237.,   78.,  135.,  244.,  199.,  270.,\n",
       "        164.,   72.,   96.,  306.,   91.,  214.,   95.,  216.,  263.,\n",
       "        178.,  113.,  200.,  139.,  139.,   88.,  148.,   88.,  243.,\n",
       "         71.,   77.,  109.,  272.,   60.,   54.,  221.,   90.,  311.,\n",
       "        281.,  182.,  321.,   58.,  262.,  206.,  233.,  242.,  123.,\n",
       "        167.,   63.,  197.,   71.,  168.,  140.,  217.,  121.,  235.,\n",
       "        245.,   40.,   52.,  104.,  132.,   88.,   69.,  219.,   72.,\n",
       "        201.,  110.,   51.,  277.,   63.,  118.,   69.,  273.,  258.,\n",
       "         43.,  198.,  242.,  232.,  175.,   93.,  168.,  275.,  293.,\n",
       "        281.,   72.,  140.,  189.,  181.,  209.,  136.,  261.,  113.,\n",
       "        131.,  174.,  257.,   55.,   84.,   42.,  146.,  212.,  233.,\n",
       "         91.,  111.,  152.,  120.,   67.,  310.,   94.,  183.,   66.,\n",
       "        173.,   72.,   49.,   64.,   48.,  178.,  104.,  132.,  220.,   57.])"
      ]
     },
     "execution_count": 4,
<<<<<<< HEAD
     "metadata": {},
     "output_type": "execute_result"
    }
   ],
   "source": [
    "diabetes.target"
   ]
  },
  {
   "cell_type": "code",
   "execution_count": 5,
   "metadata": {
    "collapsed": false
   },
   "outputs": [],
   "source": [
    "# Use only one feature\n",
    "diabetes_X = diabetes.data[:, np.newaxis, 2]"
   ]
  },
  {
   "cell_type": "code",
   "execution_count": 6,
   "metadata": {
    "collapsed": true
   },
   "outputs": [],
   "source": [
    "# Split the data into training/testing sets\n",
    "diabetes_X_train = diabetes_X[:-20]\n",
    "diabetes_X_test = diabetes_X[-20:]"
   ]
  },
  {
   "cell_type": "code",
   "execution_count": 7,
   "metadata": {
    "collapsed": true
   },
   "outputs": [],
   "source": [
    "# Split the targets into training/testing sets\n",
    "diabetes_y_train = diabetes.target[:-20]\n",
    "diabetes_y_test = diabetes.target[-20:]"
   ]
  },
  {
   "cell_type": "code",
   "execution_count": 8,
   "metadata": {
    "collapsed": false
   },
   "outputs": [],
   "source": [
    "# Create linear regression object\n",
    "regr = linear_model.LinearRegression()"
   ]
  },
  {
   "cell_type": "code",
   "execution_count": 9,
   "metadata": {
    "collapsed": false
   },
   "outputs": [
    {
     "data": {
      "text/plain": [
       "LinearRegression(copy_X=True, fit_intercept=True, n_jobs=1, normalize=False)"
      ]
     },
     "execution_count": 9,
=======
>>>>>>> c06fc63a7f260c2d0d4ea151182a44b79282bafd
     "metadata": {},
     "output_type": "execute_result"
    }
   ],
   "source": [
    "# Train the model using the training sets\n",
    "regr.fit(diabetes_X_train, diabetes_y_train)"
   ]
  },
  {
   "cell_type": "code",
   "execution_count": 10,
   "metadata": {
    "collapsed": false
   },
   "outputs": [
    {
     "name": "stdout",
     "output_type": "stream",
     "text": [
      "Coefficients: \n",
      " [ 938.23786125]\n",
      "Residual sum of squares: 2548.07\n",
      "Variance score: 0.47\n"
     ]
    }
   ],
   "source": [
    "# The coefficients\n",
    "print('Coefficients: \\n', regr.coef_)\n",
    "# The mean square error\n",
    "print(\"Residual sum of squares: %.2f\"\n",
    "      % np.mean((regr.predict(diabetes_X_test) - diabetes_y_test) ** 2))\n",
    "# Explained variance score: 1 is perfect prediction\n",
    "print('Variance score: %.2f' % regr.score(diabetes_X_test, diabetes_y_test))"
   ]
  },
  {
   "cell_type": "code",
   "execution_count": 11,
   "metadata": {
    "collapsed": false
   },
   "outputs": [
    {
     "data": {
      "image/png": "iVBORw0KGgoAAAANSUhEUgAAAV0AAADtCAYAAAAcNaZ2AAAABHNCSVQICAgIfAhkiAAAAAlwSFlz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\nGCJ0AcAQoQsAhv4PoxIe5I/wL7QAAAAASUVORK5CYII=\n",
      "text/plain": [
       "<matplotlib.figure.Figure at 0x10859e358>"
      ]
     },
     "metadata": {},
     "output_type": "display_data"
    }
   ],
   "source": [
    "# Plot outputs\n",
    "plt.scatter(diabetes_X_test, diabetes_y_test,  color='black')\n",
    "plt.plot(diabetes_X_test, regr.predict(diabetes_X_test), color='blue',\n",
    "         linewidth=3)\n",
    "\n",
    "plt.xticks(())\n",
    "plt.yticks(())\n",
    "\n",
    "plt.show()"
   ]
  },
  {
   "cell_type": "markdown",
   "metadata": {
    "collapsed": false
   },
   "source": [
    "For now, we'll create a object that have some properties of linear regression."
   ]
  },
  {
   "cell_type": "code",
   "execution_count": 5,
   "metadata": {
    "collapsed": true
   },
   "outputs": [],
   "source": [
    "model = LinearRegression()"
   ]
  },
  {
   "cell_type": "markdown",
   "metadata": {},
   "source": [
    "Fitting of the model using default properties"
   ]
  },
  {
   "cell_type": "code",
   "execution_count": 7,
   "metadata": {
    "collapsed": false
   },
   "outputs": [
    {
     "data": {
      "text/plain": [
       "LinearRegression(copy_X=True, fit_intercept=True, n_jobs=1, normalize=False)"
      ]
     },
     "execution_count": 7,
     "metadata": {},
     "output_type": "execute_result"
    }
   ],
   "source": [
    "model.fit(dataset.data, dataset.target)"
   ]
  },
  {
   "cell_type": "markdown",
   "metadata": {},
   "source": [
    "The expected object we'll recieve the data from target dataset."
   ]
  },
  {
   "cell_type": "code",
<<<<<<< HEAD
   "execution_count": null,
=======
   "execution_count": 10,
>>>>>>> c06fc63a7f260c2d0d4ea151182a44b79282bafd
   "metadata": {
    "collapsed": false
   },
   "outputs": [],
   "source": [
    "expected = dataset.target"
   ]
  },
  {
   "cell_type": "markdown",
   "metadata": {},
   "source": [
    "The object predicted we'll recieve the results of linear regression algorithm. "
   ]
  },
  {
   "cell_type": "code",
<<<<<<< HEAD
   "execution_count": null,
=======
   "execution_count": 13,
>>>>>>> c06fc63a7f260c2d0d4ea151182a44b79282bafd
   "metadata": {
    "collapsed": false
   },
   "outputs": [],
   "source": [
    "predicted = model.predict(dataset.data)"
   ]
  },
  {
   "cell_type": "markdown",
   "metadata": {},
   "source": [
    "With the model ajusted, we'll check the Mean Squared Error"
   ]
  },
  {
   "cell_type": "code",
<<<<<<< HEAD
   "execution_count": null,
=======
   "execution_count": 14,
>>>>>>> c06fc63a7f260c2d0d4ea151182a44b79282bafd
   "metadata": {
    "collapsed": false
   },
   "outputs": [],
   "source": [
    "mse = np.mean((predicted-expected)**2)"
   ]
  },
  {
   "cell_type": "code",
   "execution_count": null,
   "metadata": {
    "collapsed": false
   },
   "outputs": [],
   "source": [
    "print ('Mean Squared Error:',mse)"
   ]
  },
  {
   "cell_type": "markdown",
   "metadata": {},
   "source": [
    "Mean Absolute Deviation metric"
   ]
  },
  {
   "cell_type": "code",
<<<<<<< HEAD
   "execution_count": null,
=======
   "execution_count": 16,
>>>>>>> c06fc63a7f260c2d0d4ea151182a44b79282bafd
   "metadata": {
    "collapsed": true
   },
   "outputs": [],
   "source": [
    "mad = np.mean (np.abs(expected - predicted))"
   ]
  },
  {
   "cell_type": "code",
   "execution_count": null,
   "metadata": {
    "collapsed": false
   },
   "outputs": [],
   "source": [
    "print('Mean Absolute Deviation:',mad)"
   ]
  },
  {
   "cell_type": "markdown",
   "metadata": {},
   "source": [
    "Determination Coefficient"
   ]
  },
  {
   "cell_type": "code",
<<<<<<< HEAD
   "execution_count": null,
=======
   "execution_count": 18,
>>>>>>> c06fc63a7f260c2d0d4ea151182a44b79282bafd
   "metadata": {
    "collapsed": false
   },
   "outputs": [],
   "source": [
    "print('R^2:', model.score(dataset.data, dataset.target))"
   ]
  },
  {
   "cell_type": "markdown",
   "metadata": {},
   "source": [
    "Values of the coeficients"
   ]
  },
  {
   "cell_type": "code",
<<<<<<< HEAD
   "execution_count": null,
   "metadata": {
    "collapsed": false
   },
   "outputs": [],
=======
   "execution_count": 19,
   "metadata": {
    "collapsed": false
   },
   "outputs": [
    {
     "name": "stdout",
     "output_type": "stream",
     "text": [
      "Values of Coeficients: [ -10.01219782 -239.81908937  519.83978679  324.39042769 -792.18416163\n",
      "  476.74583782  101.04457032  177.06417623  751.27932109   67.62538639]\n"
     ]
    }
   ],
>>>>>>> c06fc63a7f260c2d0d4ea151182a44b79282bafd
   "source": [
    "print('Values of Coeficients:', model.coef_)"
   ]
  },
  {
   "cell_type": "markdown",
   "metadata": {},
   "source": [
    "Quantity of coefficients"
   ]
  },
  {
   "cell_type": "code",
<<<<<<< HEAD
   "execution_count": null,
   "metadata": {
    "collapsed": false
   },
   "outputs": [],
=======
   "execution_count": 20,
   "metadata": {
    "collapsed": false
   },
   "outputs": [
    {
     "name": "stdout",
     "output_type": "stream",
     "text": [
      "Quantity of Coefficients: 10\n"
     ]
    }
   ],
>>>>>>> c06fc63a7f260c2d0d4ea151182a44b79282bafd
   "source": [
    "print('Quantity of Coefficients:', len(model.coef_))"
   ]
  },
  {
   "cell_type": "markdown",
   "metadata": {},
   "source": [
    "Intercept value"
   ]
  },
  {
   "cell_type": "code",
<<<<<<< HEAD
   "execution_count": null,
=======
   "execution_count": 21,
>>>>>>> c06fc63a7f260c2d0d4ea151182a44b79282bafd
   "metadata": {
    "collapsed": false
   },
   "outputs": [],
   "source": [
    "print('Value of intercept:', model.intercept_)"
   ]
  },
  {
<<<<<<< HEAD
   "cell_type": "code",
   "execution_count": null,
   "metadata": {
    "collapsed": false
   },
   "outputs": [],
   "source": [
    "# Plot outputs\n",
    "plt.scatter(dataset.data, dataset.target,  color='black')\n",
    "plt.plot(dataset.data, regr.predict(dataset.data), color='blue',\n",
    "         linewidth=3)\n",
    "\n",
    "plt.xticks(())\n",
    "plt.yticks(())\n",
    "\n",
    "plt.show()"
=======
   "cell_type": "markdown",
   "metadata": {},
   "source": [
    "Model Results"
   ]
  },
  {
   "cell_type": "code",
   "execution_count": 22,
   "metadata": {
    "collapsed": false
   },
   "outputs": [
    {
     "data": {
      "text/plain": [
       "array([ 206.11706979,   68.07234761,  176.88406035,  166.91796559,\n",
       "        128.45984241,  106.34908972,   73.89417947,  118.85378669,\n",
       "        158.81033076,  213.58408893,   97.07853583,   95.1016223 ,\n",
       "        115.06673301,  164.67605023,  103.07517946,  177.17236996,\n",
       "        211.75953205,  182.84424343,  147.99987605,  124.01702527,\n",
       "        120.33094632,   85.80377894,  113.11286302,  252.44934852,\n",
       "        165.48821056,  147.72187623,   97.12824075,  179.09342974,\n",
       "        129.05497324,  184.78138552,  158.71515746,   69.47588393,\n",
       "        261.50255826,  112.81897436,   78.37194762,   87.66624129,\n",
       "        207.92460213,  157.87686037,  240.84370686,  136.93372685,\n",
       "        153.48187659,   74.15703284,  145.63105805,   77.8280105 ,\n",
       "        221.0786645 ,  125.22224022,  142.60147066,  109.4926324 ,\n",
       "         73.14037106,  189.87368742,  157.93636782,  169.55816531,\n",
       "        134.18186217,  157.72356219,  139.1077439 ,   72.73252701,\n",
       "        207.8289973 ,   80.10834588,  104.08562488,  134.57807971,\n",
       "        114.23779529,  180.67760064,   61.12644508,   98.7215441 ,\n",
       "        113.79626149,  189.96141244,  148.98263155,  124.33457266,\n",
       "        114.83969622,  122.00224605,   73.91315064,  236.70948329,\n",
       "        142.31366526,  124.51427625,  150.84273716,  127.75408702,\n",
       "        191.16674356,   77.05921006,  166.82129568,   91.00741773,\n",
       "        174.75026808,  122.83488194,   63.27214662,  151.99895968,\n",
       "         53.73407848,  166.00134469,   42.65030679,  153.04135861,\n",
       "         80.54493791,  106.9048058 ,   79.94239571,  187.1634566 ,\n",
       "        192.60115666,   61.07125918,  107.40466928,  125.04038427,\n",
       "        207.72180472,  214.21749964,  123.47505642,  139.16396617,\n",
       "        168.21035724,  106.9267784 ,  150.64502809,  157.92231541,\n",
       "        152.75856279,  116.22255529,   73.03090141,  155.66898717,\n",
       "        230.14278537,  143.50191007,   38.0947967 ,  121.860737  ,\n",
       "        152.79569851,  207.99651918,  291.23082717,  189.17431487,\n",
       "        214.02871163,  235.18090808,  165.3872774 ,  151.25000032,\n",
       "        156.57626783,  200.44154589,  219.35211772,  174.79049427,\n",
       "        169.23161767,  187.8719893 ,   57.49473392,  108.55110499,\n",
       "         92.68518048,  210.87365701,  245.47433558,   69.84529943,\n",
       "        113.0351432 ,   68.42945176,  141.69628649,  239.46177949,\n",
       "         58.3802079 ,  235.47268158,  254.91986281,  253.31042713,\n",
       "        155.50813249,  230.55904185,  170.44063216,  117.99200943,\n",
       "        178.55548636,  240.07155813,  190.3398776 ,  228.66100769,\n",
       "        114.24162642,  178.36570405,  209.09273631,  144.85567253,\n",
       "        200.65791056,  121.34184881,  150.50918174,  199.02165018,\n",
       "        146.2806806 ,  124.02443772,   85.26036769,  235.16536625,\n",
       "         82.17255475,  231.29266191,  144.36634395,  197.04778326,\n",
       "        146.99720377,   77.18477545,   59.3728572 ,  262.67891084,\n",
       "        225.12578458,  220.20506312,   46.59691745,   88.1040833 ,\n",
       "        221.77623752,   97.24900614,  164.48869956,  119.90114263,\n",
       "        157.79986195,  223.08505437,   99.5885471 ,  165.84341641,\n",
       "        179.47571002,   89.83382843,  171.82492808,  158.36337775,\n",
       "        201.47857482,  186.39202728,  197.47094269,   66.57241937,\n",
       "        154.59826802,  116.18638034,  195.92074021,  128.04740268,\n",
       "         91.20285628,  140.56975398,  155.23013996,  169.70207476,\n",
       "         98.75498537,  190.1453107 ,  142.5193942 ,  177.26966106,\n",
       "         95.31403505,   69.0645889 ,  164.16669511,  198.06460718,\n",
       "        178.26228169,  228.58801706,  160.67275473,  212.28682319,\n",
       "        222.48172067,  172.85184399,  125.27697688,  174.7240982 ,\n",
       "        152.38282657,   98.58485669,   99.73695497,  262.29658755,\n",
       "        223.73784832,  221.3425256 ,  133.61497308,  145.42593933,\n",
       "         53.04259372,  141.81807792,  153.68369915,  125.21948824,\n",
       "         77.25091512,  230.26311068,   78.90849563,  105.20931175,\n",
       "        117.99633487,   99.06361032,  166.55382825,  159.34391027,\n",
       "        158.27612808,  143.05658763,  231.55938678,  176.64144413,\n",
       "        187.23572317,   65.38504165,  190.66078824,  179.74973878,\n",
       "        234.91022512,  119.15540438,   85.63464409,  100.85860205,\n",
       "        140.4174259 ,  101.83836332,  120.66138775,   83.06599161,\n",
       "        234.58754656,  245.16192142,  263.26766492,  274.87431887,\n",
       "        180.67699732,  203.05474761,  254.21769367,  118.44122343,\n",
       "        268.44988948,  104.83643442,  115.87172349,  140.45788952,\n",
       "         58.46850453,  129.83264097,  263.78452618,   45.01240356,\n",
       "        123.28697604,  131.08314499,   34.89018315,  138.35659686,\n",
       "        244.30370588,   89.95612306,  192.07094588,  164.32674962,\n",
       "        147.74783541,  191.89381753,  176.44296313,  158.34707354,\n",
       "        189.19183226,  116.58275843,  111.44622859,  117.45262547,\n",
       "        165.79457547,   97.80241129,  139.54389024,   84.17453643,\n",
       "        159.9389204 ,  202.4011919 ,   80.48200416,  146.64621068,\n",
       "         79.05274311,  191.33759392,  220.67545196,  203.75145711,\n",
       "         92.87093594,  179.15570241,   81.80126162,  152.82706623,\n",
       "         76.79700486,   97.79712384,  106.83424483,  123.83477117,\n",
       "        218.13375502,  126.02077447,  206.76300555,  230.57976636,\n",
       "        122.0628518 ,  135.67694517,  126.36969016,  148.49621551,\n",
       "         88.07082258,  138.95595037,  203.86570118,  172.55362727,\n",
       "        122.95773416,  213.92445645,  174.88857841,  110.07169487,\n",
       "        198.36767241,  173.24601643,  162.64946177,  193.31777358,\n",
       "        191.53802295,  284.13478714,  279.30688474,  216.0070265 ,\n",
       "        210.08517801,  216.22213925,  157.01489819,  224.06561179,\n",
       "        189.05840605,  103.56829281,  178.70442926,  111.81492124,\n",
       "        290.99913121,  182.64959461,   79.33602602,   86.33287509,\n",
       "        249.15238929,  174.51439576,  122.10645431,  146.27099383,\n",
       "        170.6555544 ,  183.50018707,  163.36970989,  157.03563376,\n",
       "        144.42617093,  125.30179325,  177.50072942,  104.57821235,\n",
       "        132.1746674 ,   95.06145678,  249.9007786 ,   86.24033937,\n",
       "         62.00077469,  156.81087903,  192.3231713 ,  133.85292727,\n",
       "         93.67456315,  202.49458467,   52.53953733,  174.82926235,\n",
       "        196.9141296 ,  118.06646574,  235.3011088 ,  165.09286707,\n",
       "        160.41863314,  162.37831419,  254.05718804,  257.23616403,\n",
       "        197.50578991,  184.06609359,   58.62043851,  194.3950396 ,\n",
       "        110.77475548,  142.20916765,  128.82725506,  180.12844365,\n",
       "        211.26415225,  169.59711427,  164.34167693,  136.2363478 ,\n",
       "        174.50905908,   74.67649224,  246.29542114,  114.14131338,\n",
       "        111.54358708,  140.02313284,  109.99647408,   91.37269237,\n",
       "        163.01389345,   75.16389857,  254.05755095,   53.47055785,\n",
       "         98.48060512,  100.66268306,  258.58885744,  170.67482041,\n",
       "         61.91866052,  182.3042492 ,  171.26913027,  189.19307553,\n",
       "        187.18384852,   87.12032949,  148.37816611,  251.35898288,\n",
       "        199.69712357,  283.63722409,   50.85577124,  172.14848891,\n",
       "        204.06179478,  174.16816194,  157.93027543,  150.50201654,\n",
       "        232.9761832 ,  121.5808709 ,  164.54891787,  172.67742636,\n",
       "        226.78005938,  149.46967223,   99.14026374,   80.43680779,\n",
       "        140.15557121,  191.90593837,  199.27952034,  153.63210613,\n",
       "        171.80130949,  112.11314588,  162.60650576,  129.8448476 ,\n",
       "        258.02898298,  100.70869427,  115.87611124,  122.53790409,\n",
       "        218.17749233,   60.94590955,  131.09513588,  119.48417359,\n",
       "         52.60848094,  193.01802803,  101.05169913,  121.22505534,\n",
       "        211.8588945 ,   53.44819015])"
      ]
     },
     "execution_count": 22,
     "metadata": {},
     "output_type": "execute_result"
    }
   ],
   "source": [
    "predicted"
>>>>>>> c06fc63a7f260c2d0d4ea151182a44b79282bafd
   ]
  },
  {
   "cell_type": "code",
   "execution_count": null,
   "metadata": {
    "collapsed": true
   },
   "outputs": [],
<<<<<<< HEAD
=======
   "source": []
  },
  {
   "cell_type": "code",
   "execution_count": null,
   "metadata": {
    "collapsed": true
   },
   "outputs": [],
>>>>>>> c06fc63a7f260c2d0d4ea151182a44b79282bafd
   "source": []
  }
 ],
 "metadata": {
  "kernelspec": {
   "display_name": "Python 3",
   "language": "python",
   "name": "python3"
  },
  "language_info": {
   "codemirror_mode": {
    "name": "ipython",
    "version": 3
   },
   "file_extension": ".py",
   "mimetype": "text/x-python",
   "name": "python",
   "nbconvert_exporter": "python",
   "pygments_lexer": "ipython3",
   "version": "3.4.3"
  }
 },
 "nbformat": 4,
 "nbformat_minor": 0
}
