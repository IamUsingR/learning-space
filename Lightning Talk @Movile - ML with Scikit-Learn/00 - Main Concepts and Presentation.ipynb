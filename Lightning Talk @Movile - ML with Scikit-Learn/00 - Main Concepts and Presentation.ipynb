{
 "cells": [
  {
   "cell_type": "markdown",
   "metadata": {},
   "source": [
    "# Movile Lightning Talk\n",
    "## Machine Learning Engineering using Scikit-Learn"
   ]
  },
  {
   "cell_type": "markdown",
   "metadata": {},
   "source": [
    "# Overview\n",
    "- [Machine Learning in Data Science](# Machine Learning in Data Science)\n",
    "- [Data Science Toolkit](# Data Science Toolkit)\n",
    "- [Main Concepts](# Main Concepts)\n",
    "- [Types of learning](# Types of learning)\n",
    "    - [Supervised Learning](# Supervised Learning)\n",
    "    - [Unsupervised Learning](# Unsupervised Learning)\n",
    "    - [Reinforcement Learning](# Reinforcement Learning)\n",
    "- [Machine Learning Workflow](# Machine Learning Workflow)    \n",
    "- [Introduction to Scikit-Learn](# Introduction to Scikit-Learn)\n",
    "- [Let’s go to iPython Notebook](# Let’s go to iPython Notebook)\n",
    "    - Linear Regresson  (Supervised Learning)\n",
    "    - Decision Trees (Supervised Learning)\n",
    "    - GLM (Supervised Learning)\n",
    "    - K-Means (Unsupervised Learning)\n",
    "    - Random Forests (Ensemble Learning)\n",
    "- [Mindflow to apply Machine Learning algorithms](# Mindflow to apply Machine Learning algorithms)\n",
    "- [Contact Me](# Contact Me)"
   ]
  },
  {
   "cell_type": "markdown",
   "metadata": {},
   "source": [
    "[[back to top](#Overview)]"
   ]
  },
  {
   "cell_type": "markdown",
   "metadata": {},
   "source": [
    "# Machine Learning in Data Science\n",
    "\n",
    "<img src=\"Figures/ds_venn.png\"/>\n",
    "\n",
    "\"Petal-sepal\". Licensed under CC BY-SA 3.0 via Wikimedia Commons"
   ]
  },
  {
   "cell_type": "markdown",
   "metadata": {},
   "source": [
    "[[back to top](#Overview)]"
   ]
  },
  {
   "cell_type": "markdown",
   "metadata": {},
   "source": [
    "# Main Concepts\n",
    "\n",
    "- Attributes (Predictiors, Variables)\n",
    "- Class (Target)\n",
    "- Instance (Tuples, Records, lines)\n",
    "- Model (Parameters to fit)\n",
    "- Data (Duh!)\n",
    "- Methods (Techniques, Algorithms (algos))"
   ]
  },
  {
   "cell_type": "markdown",
   "metadata": {},
   "source": [
    "[[back to top](#Overview)]"
   ]
  },
  {
   "cell_type": "markdown",
   "metadata": {},
   "source": [
    "# Types of learning\n",
    "\n",
    "- Supervised\n",
    "- Unsupervised\n",
    "- Reinforcement"
   ]
  },
  {
   "cell_type": "markdown",
   "metadata": {},
   "source": [
    "[[back to top](#Overview)]"
   ]
  },
  {
   "cell_type": "markdown",
   "metadata": {},
   "source": [
    "# Supervised Learning\n",
    "Training: Examples X_train together with labels y_train. Testing: Given X_test, predict y_test.\n",
    "\n",
    "- Classification\n",
    "- Regression\n",
    "- Ranking\n",
    "\n",
    "A.K.A House of Prediction Analytics!!!"
   ]
  },
  {
   "cell_type": "markdown",
   "metadata": {},
   "source": [
    "[[back to top](#Overview)]"
   ]
  },
  {
   "cell_type": "markdown",
   "metadata": {},
   "source": [
    "# Unsupervised Learning\n",
    "Examples X. Learn something about X.\n",
    "\n",
    "- Dimensionality reduction\n",
    "- Clustering\n",
    "\n",
    "A.K.A. Learn from data itself\n",
    "A.K.A No-structured info apriori"
   ]
  },
  {
   "cell_type": "markdown",
   "metadata": {},
   "source": [
    "[[back to top](#Overview)]"
   ]
  },
  {
   "cell_type": "markdown",
   "metadata": {},
   "source": [
    "# Reinforcement Learning\n",
    "Use a structure of reward and penalty of the model with memory.\n",
    "\n",
    "- Ensemble Methods (?)\n",
    "\n",
    "A.K.A Where the magic happens! Multiple models!"
   ]
  },
  {
   "cell_type": "markdown",
   "metadata": {},
   "source": [
    "[[back to top](#Overview)]"
   ]
  },
  {
   "cell_type": "markdown",
   "metadata": {},
   "source": [
    "# Machine Learning Workflow\n",
    "\n",
    "<img src=\"Figures/ML Workflow.png\"/>\n",
    "\n",
    "\"Petal-sepal\". Licensed under CC BY-SA 3.0 via Wikimedia Commons"
   ]
  },
  {
   "cell_type": "markdown",
   "metadata": {},
   "source": [
    "[[back to top](#Overview)]"
   ]
  },
  {
   "cell_type": "markdown",
   "metadata": {},
   "source": [
    "# Introduction to Scikit-Learn\n",
    "- Module Open-Source of Machine Learning in Python\n",
    "- Best resources for learning\n",
    "- Most used Programming Module used in Kaggle competitions"
   ]
  },
  {
   "cell_type": "markdown",
   "metadata": {},
   "source": [
    "[[back to top](#Overview)]"
   ]
  },
  {
   "cell_type": "markdown",
   "metadata": {},
   "source": [
    "# Let’s go to iPython Notebook\n",
    "Run time..."
   ]
  },
  {
   "cell_type": "markdown",
   "metadata": {},
   "source": [
    "[[back to top](#Overview)]"
   ]
  },
  {
   "cell_type": "markdown",
   "metadata": {},
   "source": [
    "# Mindflow to apply Machine Learning algorithms\n",
    "- 0.0) Preprocess you data before\n",
    "- 0.1) Preprocess you data before\n",
    "- 0.2) Read all three again!\n",
    "- 1) Get labeled data where it contains (i) training set and (ii) test set\n",
    "- 2) Choose the learning function\n",
    "- 3) Fit the model\n",
    "- 4) Predict using the models\n",
    "- 5) See the adherence of the model (evaluation)\n",
    "- 6) Deploy"
   ]
  },
  {
   "cell_type": "markdown",
   "metadata": {},
   "source": [
    "[[back to top](#Overview)]"
   ]
  },
  {
   "cell_type": "markdown",
   "metadata": {},
   "source": [
    "# Contact Me\n",
    "- site - [mineracaodedados.wordpress.com](http://mineracaodedados.wordpress.com)\n",
    "- twitter - [@flavioclesio](http://twitter.com/flavioclesio)\n",
    "- github - [fclesio](https://github.com/fclesio)\n",
    "- e-mail - [flavio.clesio@movile.com](email:flavio.clesio@movile.com)"
   ]
  },
  {
   "cell_type": "code",
   "execution_count": null,
   "metadata": {
    "collapsed": true
   },
   "outputs": [],
   "source": []
  },
  {
   "cell_type": "code",
   "execution_count": null,
   "metadata": {
    "collapsed": true
   },
   "outputs": [],
   "source": []
  },
  {
   "cell_type": "code",
   "execution_count": null,
   "metadata": {
    "collapsed": true
   },
   "outputs": [],
   "source": []
  }
 ],
 "metadata": {
  "kernelspec": {
   "display_name": "Python 3",
   "language": "python",
   "name": "python3"
  },
  "language_info": {
   "codemirror_mode": {
    "name": "ipython",
    "version": 3
   },
   "file_extension": ".py",
   "mimetype": "text/x-python",
   "name": "python",
   "nbconvert_exporter": "python",
   "pygments_lexer": "ipython3",
   "version": "3.5.1"
  }
 },
 "nbformat": 4,
 "nbformat_minor": 0
}
