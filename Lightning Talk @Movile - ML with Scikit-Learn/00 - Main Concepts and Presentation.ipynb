{
 "cells": [
  {
   "cell_type": "markdown",
   "metadata": {},
   "source": [
    "# Movile Lightning Talk\n",
    "## Machine Learning Engineering using Scikit-Learn"
   ]
  },
  {
   "cell_type": "markdown",
   "metadata": {},
   "source": [
    "# Overview\n",
    "- [Machine Learning in Data Science](# Machine Learning in Data Science)\n",
    "- [Data Science Toolkit](# Data Science Toolkit)\n",
    "- [Main Concepts](# Main Concepts)\n",
    "- [Types of learning](# Types of learning)\n",
    "    - [Supervised Learning](# Supervised Learning)\n",
    "    - [Unsupervised Learning](# Unsupervised Learning)\n",
    "    - [Reinforcement Learning](# Reinforcement Learning)\n",
    "- [Machine Learning Workflow](# Machine Learning Workflow)    \n",
    "- [Introduction to Scikit-Learn](# Introduction to Scikit-Learn)\n",
    "- [Let’s go to iPython Notebook](# Let’s go to iPython Notebook)\n",
    "    - Linear Regresson  (Supervised Learning)\n",
    "    - Decision Trees (Supervised Learning)\n",
    "    - GLM (Supervised Learning)\n",
    "    - K-Means (Unsupervised Learning)\n",
    "    - Random Forests (Ensemble Learning)\n",
    "- [Mindflow to apply Machine Learning algorithms](# Mindflow to apply Machine Learning algorithms)\n",
    "- [Contact Me](# Contact Me)"
   ]
  },
  {
   "cell_type": "markdown",
   "metadata": {},
   "source": [
    "[[back to top](#Overview)]"
   ]
  },
  {
   "cell_type": "markdown",
   "metadata": {},
   "source": [
    "# Machine Learning in Data Science\n",
    "\n",
    "<img src=\"Figures/ds_venn.png\"/>\n",
    "\n",
    "\"Data Science Venn Diagram\". Licensed under CC BY-SA 3.0 via Wikimedia Commons"
   ]
  },
  {
   "cell_type": "markdown",
   "metadata": {},
   "source": [
    "[[back to top](#Overview)]"
   ]
  },
  {
   "cell_type": "markdown",
   "metadata": {},
   "source": [
    "# Main Concepts\n",
    "\n",
    "- **Attributes (Predictiors, Variables):** Columns of a dataset (thinking in Key-Value dataset)\n",
    "\n",
    "\n",
    "- **Instance (Tuples, Records, lines):** Records of a dataset\n",
    "\n",
    "\n",
    "- **Class (Target):** Column that indicates the final value of instance\n",
    "\n",
    "\n",
    "- **Method (Technique, Algorithm (A.K.A. Algo)):** It's a function or algorithm designed to use some features of a dataset and learn.  \n",
    "\n",
    "\n",
    "- **Model:** It's a representation of a set of parameters of a method.\n",
    "\n",
    "\n",
    "- **Data** (Duh!)\n",
    "\n"
   ]
  },
  {
   "cell_type": "markdown",
   "metadata": {},
   "source": [
    "[[back to top](#Overview)]"
   ]
  },
  {
   "cell_type": "markdown",
   "metadata": {},
   "source": [
    "# Types of learning\n",
    "\n",
    "- **Supervised Learning**\n",
    "\n",
    "\n",
    "- **Unsupervised Learning**\n",
    "\n",
    "\n",
    "- **Reinforcement Learning**"
   ]
  },
  {
   "cell_type": "markdown",
   "metadata": {},
   "source": [
    "[[back to top](#Overview)]"
   ]
  },
  {
   "cell_type": "markdown",
   "metadata": {},
   "source": [
    "# Supervised Learning\n",
    "\n",
    "It's a type of learning where some function learning is based in some labeled data (X) and the final output of this function it's a target output (y). \n",
    "\n",
    "**Training:** Examples *X_train* together with labels *y_train*. Testing: Given X_test, predict y_test.\n",
    "\n",
    "**Common tasks:**\n",
    "- Classification\n",
    "- Regression\n",
    "- Ranking\n",
    "\n",
    "**A.K.A House of Prediction Analytics!!!**"
   ]
  },
  {
   "cell_type": "markdown",
   "metadata": {},
   "source": [
    "[[back to top](#Overview)]"
   ]
  },
  {
   "cell_type": "markdown",
   "metadata": {},
   "source": [
    "# Unsupervised Learning\n",
    "In this type of learning a function doesn't have labeled data. It means that the learning comes from the whole structure of the data, instead some statistical/algorithm approximation  \n",
    "\n",
    "Examples X. Learn something about X.\n",
    "\n",
    "**Common tasks:**\n",
    "- Dimensionality reduction\n",
    "- Clustering\n",
    "\n",
    "**A.K.A. learn from data itself**\n",
    "\n",
    "\n",
    "**A.K.A No-structured info apriori**"
   ]
  },
  {
   "cell_type": "markdown",
   "metadata": {},
   "source": [
    "[[back to top](#Overview)]"
   ]
  },
  {
   "cell_type": "markdown",
   "metadata": {},
   "source": [
    "# Reinforcement Learning\n",
    "Reinforcement learning it's a term stolen from robots where an agent makes decisions based in their environment (state) and for each action this agent have some penalty (for bad actions) or reward (for good actions). The main objective is get the maximum reward in some cummulative way.  \n",
    "\n",
    "Use a structure of reward and penalty of the model with memory.\n",
    "\n",
    "- Ensemble Methods (?)\n",
    "\n",
    "**A.K.A Where the magic happens! Multiple models! Models learning based in other models, like Inception movie**"
   ]
  },
  {
   "cell_type": "markdown",
   "metadata": {},
   "source": [
    "[[back to top](#Overview)]"
   ]
  },
  {
   "cell_type": "markdown",
   "metadata": {},
   "source": [
    "# Machine Learning Workflow\n",
    "\n",
    "<img src=\"Figures/ML Workflow.png\"/>\n",
    "\n",
    "Source: \"Machine Learning in Python: Essential Techniques for Predictive Analysis\". Licensed under CC BY-SA 3.0 via Wikimedia Commons"
   ]
  },
  {
   "cell_type": "markdown",
   "metadata": {},
   "source": [
    "[[back to top](#Overview)]"
   ]
  },
  {
   "cell_type": "markdown",
   "metadata": {},
   "source": [
    "# Introduction to Scikit-Learn\n",
    "- An open-source API/Library of Machine Learning in Python\n",
    "- Created by an Google Engineer called David Cournapeau in 2007\n",
    "- Main advantage: From Lab to Production\n",
    "- Most used programming module used in Kaggle competitions"
   ]
  },
  {
   "cell_type": "markdown",
   "metadata": {},
   "source": [
    "# Why Scikit-Learn?\n",
    "- No-brainer open-source toolkit\n",
    "- Do not use Java Virtual Machine (the main bottleneck to deal with big datasets and computation)\n",
    "- Scalability, scalability, scalability \n",
    "- Real deal programming module for data science\n",
    "- Reliable algorithms \n",
    "- Any programmer can use\n",
    "- Integrate with H2O.ai, Microsoft Azure Machine Learning, R, Spark, and so on..."
   ]
  },
  {
   "cell_type": "markdown",
   "metadata": {},
   "source": [
    "[[back to top](#Overview)]"
   ]
  },
  {
   "cell_type": "markdown",
   "metadata": {},
   "source": [
    "# Let’s go to iPython Notebook\n",
    "Run time..."
   ]
  },
  {
   "cell_type": "markdown",
   "metadata": {},
   "source": [
    "[[back to top](#Overview)]"
   ]
  },
  {
   "cell_type": "markdown",
   "metadata": {},
   "source": [
    "# Mindflow to apply Machine Learning algorithms\n",
    "- 0.0) Preprocess your data in some RMDBS before!\n",
    "\n",
    "\n",
    "- 0.1) reprocess your data in some RMDBS before!\n",
    "\n",
    "\n",
    "- 0.2) Read all three again!\n",
    "\n",
    "\n",
    "- 1) Get labeled data where it contains (i) training set and (ii) test set\n",
    "\n",
    "\n",
    "- 2) Choose the learning function\n",
    "\n",
    "\n",
    "- 3) Fit the model\n",
    "\n",
    "\n",
    "- 4) Predict using the models\n",
    "\n",
    "\n",
    "- 5) See the adherence of the model (evaluation)\n",
    "\n",
    "\n",
    "- 6) Deploy\n",
    "\n",
    "\n",
    "- 7) Repeat the cycle again"
   ]
  },
  {
   "cell_type": "markdown",
   "metadata": {},
   "source": [
    "[[back to top](#Overview)]"
   ]
  },
  {
   "cell_type": "markdown",
   "metadata": {},
   "source": [
    "# Contact Me\n",
    "- site - [mineracaodedados.wordpress.com](http://mineracaodedados.wordpress.com)\n",
    "\n",
    "\n",
    "- twitter - [@flavioclesio](http://twitter.com/flavioclesio)\n",
    "\n",
    "\n",
    "- github - [fclesio](https://github.com/fclesio)\n",
    "\n",
    "\n",
    "- e-mail - [flavio.clesio@movile.com](email:flavio.clesio@movile.com)"
   ]
  },
  {
   "cell_type": "code",
   "execution_count": null,
   "metadata": {
    "collapsed": true
   },
   "outputs": [],
   "source": []
  },
  {
   "cell_type": "code",
   "execution_count": null,
   "metadata": {
    "collapsed": true
   },
   "outputs": [],
   "source": []
  },
  {
   "cell_type": "code",
   "execution_count": null,
   "metadata": {
    "collapsed": true
   },
   "outputs": [],
   "source": []
  }
 ],
 "metadata": {
  "kernelspec": {
   "display_name": "Python 3",
   "language": "python",
   "name": "python3"
  },
  "language_info": {
   "codemirror_mode": {
    "name": "ipython",
    "version": 3
   },
   "file_extension": ".py",
   "mimetype": "text/x-python",
   "name": "python",
   "nbconvert_exporter": "python",
   "pygments_lexer": "ipython3",
   "version": "3.5.1"
  }
 },
 "nbformat": 4,
 "nbformat_minor": 0
}
